{
 "cells": [
  {
   "cell_type": "code",
   "execution_count": 38,
   "id": "b2c72869-da92-443f-93fd-b20c8d900f02",
   "metadata": {},
   "outputs": [],
   "source": [
    "import pandas as pd\n",
    "import numpy as np\n",
    "import matplotlib.pyplot as plt\n",
    "import seaborn as sns\n",
    "from sklearn.manifold import TSNE\n",
    "\n",
    "# html processing\n",
    "from bs4 import BeautifulSoup\n",
    "\n",
    "# main feature processing\n",
    "import re\n",
    "import nltk\n",
    "import pymorphy3\n",
    "from nltk.corpus import stopwords\n",
    "from nltk.tokenize import word_tokenize\n",
    "\n",
    "# vectorization\n",
    "from sklearn.feature_extraction.text import TfidfVectorizer\n",
    "from sentence_transformers import SentenceTransformer\n",
    "from sklearn.decomposition import TruncatedSVD\n",
    "\n",
    "# tools\n",
    "from scipy.sparse import save_npz, load_npz\n",
    "import pickle\n",
    "from collections import Counter\n",
    "import os\n",
    "import pathlib\n",
    "\n",
    "# clustering\n",
    "from sklearn.cluster import KMeans\n",
    "from sklearn.metrics import silhouette_score, calinski_harabasz_score, davies_bouldin_score\n",
    "from sklearn.cluster import DBSCAN\n",
    "from sklearn.neighbors import NearestNeighbors # Для подбора eps\n",
    "from sklearn.mixture import GaussianMixture"
   ]
  },
  {
   "cell_type": "markdown",
   "id": "149af1e2-b966-425f-a771-66d5bc4eba51",
   "metadata": {},
   "source": [
    "#### Загрузка обученных моделей и векторизованных пространств"
   ]
  },
  {
   "cell_type": "code",
   "execution_count": 30,
   "id": "9b284d90-27f3-46af-b09e-d6707ceea7c6",
   "metadata": {},
   "outputs": [],
   "source": [
    "# !! Установите False, если надо обучать алгоритмы !!\n",
    "embeddings_matrix_calculated = True\n",
    "data_processed_path = '../data/processed_data/'"
   ]
  },
  {
   "cell_type": "code",
   "execution_count": 31,
   "id": "44ba678e-b3fd-4332-9e6d-d8ae5bbe54d6",
   "metadata": {},
   "outputs": [
    {
     "ename": "FileNotFoundError",
     "evalue": "[Errno 2] No such file or directory: '../data/processed_data/tfidf_matrix_unigrams.npz'",
     "output_type": "error",
     "traceback": [
      "\u001b[1;31m---------------------------------------------------------------------------\u001b[0m",
      "\u001b[1;31mFileNotFoundError\u001b[0m                         Traceback (most recent call last)",
      "Cell \u001b[1;32mIn[31], line 5\u001b[0m\n\u001b[0;32m      2\u001b[0m matrix_uni_filename \u001b[38;5;241m=\u001b[39m os\u001b[38;5;241m.\u001b[39mpath\u001b[38;5;241m.\u001b[39mjoin(data_processed_path, \u001b[38;5;124m\"\u001b[39m\u001b[38;5;124mtfidf_matrix_unigrams.npz\u001b[39m\u001b[38;5;124m\"\u001b[39m)\n\u001b[0;32m      3\u001b[0m vectorizer_uni_filename \u001b[38;5;241m=\u001b[39m os\u001b[38;5;241m.\u001b[39mpath\u001b[38;5;241m.\u001b[39mjoin(data_processed_path, \u001b[38;5;124m\"\u001b[39m\u001b[38;5;124mtfidf_vectorizer_unigrams.pkl\u001b[39m\u001b[38;5;124m\"\u001b[39m)\n\u001b[1;32m----> 5\u001b[0m tfidf_matrix_uni \u001b[38;5;241m=\u001b[39m load_npz(matrix_uni_filename)\n\u001b[0;32m      6\u001b[0m \u001b[38;5;28;01mwith\u001b[39;00m \u001b[38;5;28mopen\u001b[39m(vectorizer_uni_filename, \u001b[38;5;124m'\u001b[39m\u001b[38;5;124mrb\u001b[39m\u001b[38;5;124m'\u001b[39m) \u001b[38;5;28;01mas\u001b[39;00m f_vec:\n\u001b[0;32m      7\u001b[0m     tfidf_vectorizer_uni \u001b[38;5;241m=\u001b[39m pickle\u001b[38;5;241m.\u001b[39mload(f_vec)\n",
      "File \u001b[1;32mC:\\anacon\\Lib\\site-packages\\scipy\\sparse\\_matrix_io.py:125\u001b[0m, in \u001b[0;36mload_npz\u001b[1;34m(file)\u001b[0m\n\u001b[0;32m     76\u001b[0m \u001b[38;5;28;01mdef\u001b[39;00m \u001b[38;5;21mload_npz\u001b[39m(file):\n\u001b[0;32m     77\u001b[0m \u001b[38;5;250m    \u001b[39m\u001b[38;5;124;03m\"\"\" Load a sparse matrix from a file using ``.npz`` format.\u001b[39;00m\n\u001b[0;32m     78\u001b[0m \n\u001b[0;32m     79\u001b[0m \u001b[38;5;124;03m    Parameters\u001b[39;00m\n\u001b[1;32m   (...)\u001b[0m\n\u001b[0;32m    122\u001b[0m \u001b[38;5;124;03m           [4, 0, 0]], dtype=int64)\u001b[39;00m\n\u001b[0;32m    123\u001b[0m \u001b[38;5;124;03m    \"\"\"\u001b[39;00m\n\u001b[1;32m--> 125\u001b[0m     \u001b[38;5;28;01mwith\u001b[39;00m np\u001b[38;5;241m.\u001b[39mload(file, \u001b[38;5;241m*\u001b[39m\u001b[38;5;241m*\u001b[39mPICKLE_KWARGS) \u001b[38;5;28;01mas\u001b[39;00m loaded:\n\u001b[0;32m    126\u001b[0m         \u001b[38;5;28;01mtry\u001b[39;00m:\n\u001b[0;32m    127\u001b[0m             matrix_format \u001b[38;5;241m=\u001b[39m loaded[\u001b[38;5;124m'\u001b[39m\u001b[38;5;124mformat\u001b[39m\u001b[38;5;124m'\u001b[39m]\n",
      "File \u001b[1;32mC:\\anacon\\Lib\\site-packages\\numpy\\lib\\npyio.py:405\u001b[0m, in \u001b[0;36mload\u001b[1;34m(file, mmap_mode, allow_pickle, fix_imports, encoding, max_header_size)\u001b[0m\n\u001b[0;32m    403\u001b[0m     own_fid \u001b[38;5;241m=\u001b[39m \u001b[38;5;28;01mFalse\u001b[39;00m\n\u001b[0;32m    404\u001b[0m \u001b[38;5;28;01melse\u001b[39;00m:\n\u001b[1;32m--> 405\u001b[0m     fid \u001b[38;5;241m=\u001b[39m stack\u001b[38;5;241m.\u001b[39menter_context(\u001b[38;5;28mopen\u001b[39m(os_fspath(file), \u001b[38;5;124m\"\u001b[39m\u001b[38;5;124mrb\u001b[39m\u001b[38;5;124m\"\u001b[39m))\n\u001b[0;32m    406\u001b[0m     own_fid \u001b[38;5;241m=\u001b[39m \u001b[38;5;28;01mTrue\u001b[39;00m\n\u001b[0;32m    408\u001b[0m \u001b[38;5;66;03m# Code to distinguish from NumPy binary files and pickles.\u001b[39;00m\n",
      "\u001b[1;31mFileNotFoundError\u001b[0m: [Errno 2] No such file or directory: '../data/processed_data/tfidf_matrix_unigrams.npz'"
     ]
    }
   ],
   "source": [
    "if embeddings_matrix_calculated:\n",
    "    matrix_uni_filename = os.path.join(data_processed_path, \"tfidf_matrix_unigrams.npz\")\n",
    "    vectorizer_uni_filename = os.path.join(data_processed_path, \"tfidf_vectorizer_unigrams.pkl\")\n",
    "    \n",
    "    tfidf_matrix_uni = load_npz(matrix_uni_filename)\n",
    "    with open(vectorizer_uni_filename, 'rb') as f_vec:\n",
    "        tfidf_vectorizer_uni = pickle.load(f_vec)\n",
    "    print(f\"TF-IDF (униграммы) загружены. Размерность матрицы: {tfidf_matrix_uni.shape}\")\n",
    "    \n",
    "    \n",
    "    matrix_uni_bi_filename = os.path.join(data_processed_path, \"tfidf_matrix_uni_bigrams.npz\")\n",
    "    vectorizer_uni_bi_filename = os.path.join(data_processed_path, \"tfidf_vectorizer_uni_bigrams.pkl\")\n",
    "    tfidf_matrix_uni_bi = load_npz(matrix_uni_bi_filename)\n",
    "    with open(vectorizer_uni_bi_filename, 'rb') as f_vec:\n",
    "        tfidf_vectorizer_uni_bi = pickle.load(f_vec)\n",
    "    print(f\"TF-IDF (униграммы + биграммы) загружены. Размерность матрицы: {tfidf_matrix_uni_bi.shape}\")"
   ]
  },
  {
   "cell_type": "code",
   "execution_count": null,
   "id": "b212d0fa-b831-4386-bd00-720bc5f8d4d2",
   "metadata": {},
   "outputs": [
    {
     "name": "stdout",
     "output_type": "stream",
     "text": [
      "SBERT MiniLM эмбеддинги загружены. Размерность: (20776, 384)\n"
     ]
    }
   ],
   "source": [
    "if embeddings_matrix_calculated:\n",
    "    embeddings_minilm_filename = os.path.join(data_processed_path, \"sbert_embeddings.npy\")\n",
    "    \n",
    "    embeddings_minilm = np.load(embeddings_minilm_filename)\n",
    "    print(f\"SBERT MiniLM эмбеддинги загружены. Размерность: {embeddings_minilm.shape}\")"
   ]
  },
  {
   "cell_type": "code",
   "execution_count": null,
   "id": "560b4f49-56e2-4189-8875-03df2817abb5",
   "metadata": {},
   "outputs": [
    {
     "name": "stdout",
     "output_type": "stream",
     "text": [
      "SBERT MiniLM эмбеддинги загружены. Размерность: (20776, 768)\n"
     ]
    }
   ],
   "source": [
    "if embeddings_matrix_calculated:\n",
    "    embeddings_base_filename = os.path.join(data_processed_path, \"sbert_base_embeddings.npy\")\n",
    "    \n",
    "    embeddings_base = np.load(embeddings_base_filename)\n",
    "    print(f\"SBERT MiniLM эмбеддинги загружены. Размерность: {embeddings_base.shape}\")"
   ]
  },
  {
   "cell_type": "code",
   "execution_count": 8,
   "id": "6f8f3b44-2263-48e0-8e78-8c50fd231741",
   "metadata": {},
   "outputs": [],
   "source": [
    "data = pd.read_csv('C:\\python\\HH_parser\\data\\processed_data\\hh_parsed_vacancies_v2.csv')"
   ]
  },
  {
   "cell_type": "markdown",
   "id": "0e1872b0-b80b-4e5b-a767-d41bb660dde8",
   "metadata": {},
   "source": [
    "## EDA: first look"
   ]
  },
  {
   "cell_type": "code",
   "execution_count": 9,
   "id": "0dbf4628-0218-486e-9f82-555ea08085f7",
   "metadata": {},
   "outputs": [
    {
     "data": {
      "text/html": [
       "<div>\n",
       "<style scoped>\n",
       "    .dataframe tbody tr th:only-of-type {\n",
       "        vertical-align: middle;\n",
       "    }\n",
       "\n",
       "    .dataframe tbody tr th {\n",
       "        vertical-align: top;\n",
       "    }\n",
       "\n",
       "    .dataframe thead th {\n",
       "        text-align: right;\n",
       "    }\n",
       "</style>\n",
       "<table border=\"1\" class=\"dataframe\">\n",
       "  <thead>\n",
       "    <tr style=\"text-align: right;\">\n",
       "      <th></th>\n",
       "      <th>id</th>\n",
       "      <th>Vacancy_name</th>\n",
       "      <th>City</th>\n",
       "      <th>Employer_name</th>\n",
       "      <th>alternate_url</th>\n",
       "      <th>salary_from</th>\n",
       "      <th>salary_to</th>\n",
       "      <th>salary_currency</th>\n",
       "      <th>requirement_snippet</th>\n",
       "      <th>responsibility_snippet</th>\n",
       "      <th>employment_type</th>\n",
       "      <th>schedule_type</th>\n",
       "      <th>experience_required</th>\n",
       "      <th>full_description_html</th>\n",
       "      <th>key_skills_str</th>\n",
       "    </tr>\n",
       "  </thead>\n",
       "  <tbody>\n",
       "    <tr>\n",
       "      <th>0</th>\n",
       "      <td>120166622</td>\n",
       "      <td>Директор по цифровой трансформации (CDTO)</td>\n",
       "      <td>Москва</td>\n",
       "      <td>Кадровое Бюро Охота</td>\n",
       "      <td>https://hh.ru/vacancy/120166622</td>\n",
       "      <td>NaN</td>\n",
       "      <td>NaN</td>\n",
       "      <td>NaN</td>\n",
       "      <td>Высокий уровень технической экспертизы в инфра...</td>\n",
       "      <td>Оценка рисков и &lt;highlighttext&gt;разработка&lt;/hig...</td>\n",
       "      <td>Полная занятость</td>\n",
       "      <td>Полный день</td>\n",
       "      <td>Более 6 лет</td>\n",
       "      <td>&lt;p&gt;&lt;strong&gt;Основные задачи:&lt;/strong&gt;&lt;/p&gt; &lt;ol&gt; ...</td>\n",
       "      <td>Цифровая трансформация</td>\n",
       "    </tr>\n",
       "    <tr>\n",
       "      <th>1</th>\n",
       "      <td>120296269</td>\n",
       "      <td>Вице-президент по коммерции</td>\n",
       "      <td>Москва</td>\n",
       "      <td>Макарова Екатерина Петровна</td>\n",
       "      <td>https://hh.ru/vacancy/120296269</td>\n",
       "      <td>500000.0</td>\n",
       "      <td>500000.0</td>\n",
       "      <td>RUR</td>\n",
       "      <td>...пищевых или FMCG компаниях. Продвинутый пол...</td>\n",
       "      <td>Развитие: сегменты продаж, география продаж, в...</td>\n",
       "      <td>Полная занятость</td>\n",
       "      <td>Полный день</td>\n",
       "      <td>Более 6 лет</td>\n",
       "      <td>&lt;p&gt;Торгово-производственная компания формирует...</td>\n",
       "      <td>Управление персоналом, Бюджетирование, Анализ ...</td>\n",
       "    </tr>\n",
       "    <tr>\n",
       "      <th>2</th>\n",
       "      <td>120303721</td>\n",
       "      <td>Руководитель отдела маркетинга</td>\n",
       "      <td>Москва</td>\n",
       "      <td>Северсталь</td>\n",
       "      <td>https://hh.ru/vacancy/120303721</td>\n",
       "      <td>NaN</td>\n",
       "      <td>NaN</td>\n",
       "      <td>NaN</td>\n",
       "      <td>Есть подтвержденный опыт &lt;highlighttext&gt;разраб...</td>\n",
       "      <td>Совместно с командой &lt;highlighttext&gt;BI&lt;/highli...</td>\n",
       "      <td>Полная занятость</td>\n",
       "      <td>Полный день</td>\n",
       "      <td>От 3 до 6 лет</td>\n",
       "      <td>&lt;p&gt;&lt;strong&gt;Industrial.Market&lt;/strong&gt; – иннова...</td>\n",
       "      <td>B2B-маркетинг, Продвижение бренда, Стратегичес...</td>\n",
       "    </tr>\n",
       "    <tr>\n",
       "      <th>3</th>\n",
       "      <td>120340704</td>\n",
       "      <td>Директор по Маркетингу</td>\n",
       "      <td>Москва</td>\n",
       "      <td>Моблер Индастриал</td>\n",
       "      <td>https://hh.ru/vacancy/120340704</td>\n",
       "      <td>250000.0</td>\n",
       "      <td>350000.0</td>\n",
       "      <td>RUR</td>\n",
       "      <td>...VK/Telegram-таргет).- Умение анализировать ...</td>\n",
       "      <td>Есть тестовое задание в конце объявления. Обяз...</td>\n",
       "      <td>Полная занятость</td>\n",
       "      <td>Полный день</td>\n",
       "      <td>Более 6 лет</td>\n",
       "      <td>&lt;p&gt;&lt;strong&gt;Директор по маркетингу (чехлы и акс...</td>\n",
       "      <td>Креативность, Работа в команде, Нативный марке...</td>\n",
       "    </tr>\n",
       "    <tr>\n",
       "      <th>4</th>\n",
       "      <td>118700041</td>\n",
       "      <td>Директор по цифровой трансформации</td>\n",
       "      <td>Москва</td>\n",
       "      <td>StaffRecruitment</td>\n",
       "      <td>https://hh.ru/vacancy/118700041</td>\n",
       "      <td>900000.0</td>\n",
       "      <td>NaN</td>\n",
       "      <td>RUR</td>\n",
       "      <td>Глубокое понимание современных технологий в об...</td>\n",
       "      <td>Сотрудничество с IT-отделом для &lt;highlighttext...</td>\n",
       "      <td>Полная занятость</td>\n",
       "      <td>Полный день</td>\n",
       "      <td>От 3 до 6 лет</td>\n",
       "      <td>&lt;p&gt;Клиент: крупная транспортная компания.&lt;/p&gt; ...</td>\n",
       "      <td>Оптимизация бизнес-процессов, Автоматизация би...</td>\n",
       "    </tr>\n",
       "  </tbody>\n",
       "</table>\n",
       "</div>"
      ],
      "text/plain": [
       "          id                               Vacancy_name    City  \\\n",
       "0  120166622  Директор по цифровой трансформации (CDTO)  Москва   \n",
       "1  120296269                Вице-президент по коммерции  Москва   \n",
       "2  120303721             Руководитель отдела маркетинга  Москва   \n",
       "3  120340704                     Директор по Маркетингу  Москва   \n",
       "4  118700041         Директор по цифровой трансформации  Москва   \n",
       "\n",
       "                 Employer_name                    alternate_url  salary_from  \\\n",
       "0          Кадровое Бюро Охота  https://hh.ru/vacancy/120166622          NaN   \n",
       "1  Макарова Екатерина Петровна  https://hh.ru/vacancy/120296269     500000.0   \n",
       "2                   Северсталь  https://hh.ru/vacancy/120303721          NaN   \n",
       "3            Моблер Индастриал  https://hh.ru/vacancy/120340704     250000.0   \n",
       "4             StaffRecruitment  https://hh.ru/vacancy/118700041     900000.0   \n",
       "\n",
       "   salary_to salary_currency  \\\n",
       "0        NaN             NaN   \n",
       "1   500000.0             RUR   \n",
       "2        NaN             NaN   \n",
       "3   350000.0             RUR   \n",
       "4        NaN             RUR   \n",
       "\n",
       "                                 requirement_snippet  \\\n",
       "0  Высокий уровень технической экспертизы в инфра...   \n",
       "1  ...пищевых или FMCG компаниях. Продвинутый пол...   \n",
       "2  Есть подтвержденный опыт <highlighttext>разраб...   \n",
       "3  ...VK/Telegram-таргет).- Умение анализировать ...   \n",
       "4  Глубокое понимание современных технологий в об...   \n",
       "\n",
       "                              responsibility_snippet   employment_type  \\\n",
       "0  Оценка рисков и <highlighttext>разработка</hig...  Полная занятость   \n",
       "1  Развитие: сегменты продаж, география продаж, в...  Полная занятость   \n",
       "2  Совместно с командой <highlighttext>BI</highli...  Полная занятость   \n",
       "3  Есть тестовое задание в конце объявления. Обяз...  Полная занятость   \n",
       "4  Сотрудничество с IT-отделом для <highlighttext...  Полная занятость   \n",
       "\n",
       "  schedule_type experience_required  \\\n",
       "0   Полный день         Более 6 лет   \n",
       "1   Полный день         Более 6 лет   \n",
       "2   Полный день       От 3 до 6 лет   \n",
       "3   Полный день         Более 6 лет   \n",
       "4   Полный день       От 3 до 6 лет   \n",
       "\n",
       "                               full_description_html  \\\n",
       "0  <p><strong>Основные задачи:</strong></p> <ol> ...   \n",
       "1  <p>Торгово-производственная компания формирует...   \n",
       "2  <p><strong>Industrial.Market</strong> – иннова...   \n",
       "3  <p><strong>Директор по маркетингу (чехлы и акс...   \n",
       "4  <p>Клиент: крупная транспортная компания.</p> ...   \n",
       "\n",
       "                                      key_skills_str  \n",
       "0                             Цифровая трансформация  \n",
       "1  Управление персоналом, Бюджетирование, Анализ ...  \n",
       "2  B2B-маркетинг, Продвижение бренда, Стратегичес...  \n",
       "3  Креативность, Работа в команде, Нативный марке...  \n",
       "4  Оптимизация бизнес-процессов, Автоматизация би...  "
      ]
     },
     "execution_count": 9,
     "metadata": {},
     "output_type": "execute_result"
    }
   ],
   "source": [
    "data.head()"
   ]
  },
  {
   "cell_type": "markdown",
   "id": "acd26c07-ab4a-4259-87fd-3675ef2c5b00",
   "metadata": {},
   "source": [
    "##### Несмотря на первоначальную фильтрацию вакансий, а нашей выборке представлены не только вакансии из отрасли IT"
   ]
  },
  {
   "cell_type": "code",
   "execution_count": 10,
   "id": "fb5c92b8-35a9-4c01-ab2d-14aa0f87cbe5",
   "metadata": {},
   "outputs": [
    {
     "data": {
      "text/plain": [
       "Vacancy_name\n",
       "Системный аналитик              571\n",
       "Бизнес-аналитик                 370\n",
       "Аналитик данных                 257\n",
       "Финансовый аналитик             231\n",
       "Data Engineer                   210\n",
       "Финансовый менеджер             132\n",
       "Аналитик                        131\n",
       "Продуктовый аналитик             91\n",
       "Интернет-маркетолог              90\n",
       "Маркетолог                       76\n",
       "Data Scientist                   76\n",
       "Менеджер по развитию бизнеса     75\n",
       "BI-аналитик                      73\n",
       "Менеджер продукта                71\n",
       "DevOps-инженер                   64\n",
       "Python-разработчик               61\n",
       "SEO-специалист                   61\n",
       "Экономист                        59\n",
       "Системный аналитик 1С            50\n",
       "Аналитик 1С                      48\n",
       "Ведущий системный аналитик       45\n",
       "Маркетолог-аналитик              44\n",
       "Программист 1С                   42\n",
       "Финансовый директор (CFO)        42\n",
       "Продакт-менеджер                 41\n",
       "Главный бухгалтер                41\n",
       "ML-инженер                       39\n",
       "Product manager                  36\n",
       "Менеджер по продукту             35\n",
       "Веб-аналитик                     32\n",
       "Name: count, dtype: int64"
      ]
     },
     "execution_count": 10,
     "metadata": {},
     "output_type": "execute_result"
    }
   ],
   "source": [
    "data['Vacancy_name'].value_counts().head(30)"
   ]
  },
  {
   "cell_type": "markdown",
   "id": "4c23e54c-b201-42e3-a14b-ac891df2b57d",
   "metadata": {},
   "source": [
    "#### Наша выборка состоит из 15 признаков и 22 тысяч вакансий-наблюдений. Признаковое пространство составляют такие параметры вакансий, как зарплата, описание вакансии, ключевые навыки, имя работодателя и не только"
   ]
  },
  {
   "cell_type": "code",
   "execution_count": 11,
   "id": "5316294f-28df-4dde-b6e0-360a14fdb739",
   "metadata": {},
   "outputs": [
    {
     "name": "stdout",
     "output_type": "stream",
     "text": [
      "Количество дубликатов в выборке: 1053\n",
      "Осталось дубликатов в выборке : 0\n"
     ]
    }
   ],
   "source": [
    "print(f'Количество дубликатов в выборке: {data.duplicated().sum()}')\n",
    "data.drop_duplicates(inplace=True)\n",
    "print(f'Осталось дубликатов в выборке : {data.duplicated().sum()}')"
   ]
  },
  {
   "cell_type": "code",
   "execution_count": 12,
   "id": "0e0d63b4-8d6b-47b5-b13e-9a2701b77c9f",
   "metadata": {},
   "outputs": [
    {
     "name": "stdout",
     "output_type": "stream",
     "text": [
      "<class 'pandas.core.frame.DataFrame'>\n",
      "Index: 20776 entries, 0 to 21828\n",
      "Data columns (total 15 columns):\n",
      " #   Column                  Non-Null Count  Dtype  \n",
      "---  ------                  --------------  -----  \n",
      " 0   id                      20776 non-null  int64  \n",
      " 1   Vacancy_name            20776 non-null  object \n",
      " 2   City                    20776 non-null  object \n",
      " 3   Employer_name           20776 non-null  object \n",
      " 4   alternate_url           20776 non-null  object \n",
      " 5   salary_from             4962 non-null   float64\n",
      " 6   salary_to               3339 non-null   float64\n",
      " 7   salary_currency         5836 non-null   object \n",
      " 8   requirement_snippet     20713 non-null  object \n",
      " 9   responsibility_snippet  20697 non-null  object \n",
      " 10  employment_type         20776 non-null  object \n",
      " 11  schedule_type           20776 non-null  object \n",
      " 12  experience_required     20776 non-null  object \n",
      " 13  full_description_html   20776 non-null  object \n",
      " 14  key_skills_str          12378 non-null  object \n",
      "dtypes: float64(2), int64(1), object(12)\n",
      "memory usage: 2.5+ MB\n"
     ]
    }
   ],
   "source": [
    "data.info()"
   ]
  },
  {
   "cell_type": "code",
   "execution_count": 13,
   "id": "197843c6-fcd9-48d0-8786-21383aeb6f3b",
   "metadata": {},
   "outputs": [
    {
     "data": {
      "text/plain": [
       "'Высокий уровень технической экспертизы в инфраструктуре, сетях, <highlighttext>разработке</highlighttext>, SAP системах и т. д. Широкий кругозор в области ИТ, отличное понимание...'"
      ]
     },
     "execution_count": 13,
     "metadata": {},
     "output_type": "execute_result"
    }
   ],
   "source": [
    "data['requirement_snippet'][0]"
   ]
  },
  {
   "cell_type": "code",
   "execution_count": 14,
   "id": "6d4dbc33-c2de-4b46-bf75-16d619b9f06b",
   "metadata": {},
   "outputs": [
    {
     "data": {
      "text/plain": [
       "'Оптимизация бизнес-процессов, Автоматизация бизнес-процессов, ИТ-инфраструктура, Системное мышление, Управление информационной безопасностью'"
      ]
     },
     "execution_count": 14,
     "metadata": {},
     "output_type": "execute_result"
    }
   ],
   "source": [
    "data['key_skills_str'][4]"
   ]
  },
  {
   "cell_type": "code",
   "execution_count": 15,
   "id": "e0e9b5aa-89f1-4504-9dc3-9c4a4f09dbf4",
   "metadata": {},
   "outputs": [
    {
     "data": {
      "text/plain": [
       "'<p>Клиент: крупная транспортная компания.</p> <p><strong>Обязанности:</strong></p> <ul> <li>Разработка и реализация стратегии цифровой трансформации в соответствии с бизнес-целями компании;</li> <li>Анализ текущих бизнес-процессов и определение возможностей для их цифровизации и автоматизации;</li> <li>Внедрение передовых технологий и платформ для оптимизации логистических процессов и улучшения сервисного обслуживания клиентов;</li> <li>Оценка и выбор IT-решений, включая системы управления складом (WMS), системы отслеживания поставок и другие инструменты;</li> <li>Управление проектами по цифровизации, анализ результатов и оптимизация процессов на основе полученных данных;</li> <li>Сотрудничество с IT-отделом для разработки и внедрения новых цифровых инструментов и платформ;</li> <li>Оценка рисков и разработка мер по их минимизации в процессе цифровой трансформации;</li> <li>Подготовка аналитических отчетов для руководства о прогрессе и результатах цифровой трансформации.</li> </ul> <p><strong>Требования:</strong></p> <ul> <li>Высшее образование в области бизнеса, ИТ, инжиниринга или смежных дисциплин (MBA является преимуществом);</li> <li>Глубокое понимание современных технологий в области логистики (IoT, Big Data, BI, AI и др.);</li> <li>Опыт управления проектами цифровой трансформации и внедрения IT-решений;</li> <li>Сильные лидерские качества и способность мотивировать команду на изменения;</li> <li>Отличные навыки стратегического мышления, управления командами и ведения переговоров.</li> <li>Знание английского языка на уровне, необходимом для профессионального общения.</li> </ul> <p><strong>Условия:</strong></p> <ul> <li>Работа в стабильной и развивающейся транспортной компании с высоким уровнем профессионализма;</li> <li>Оформление по ТК РФ;</li> <li>Конкурентная компенсация + KPI + годовая премия (по результатам работы);</li> <li>Корпоративный автомобиль, мобильная связь и другие льготы;</li> <li>Участие в масштабных трансформационных проектах с лидерами рынка.</li> <li>Возможности для развития и повышения квалификации, участие в тренингах и семинарах.</li> </ul> <p>Если вас заинтересовала данная вакансия, пожалуйста, отправьте ваш отклик и сопроводительное письмо.</p>'"
      ]
     },
     "execution_count": 15,
     "metadata": {},
     "output_type": "execute_result"
    }
   ],
   "source": [
    "data['full_description_html'][4]"
   ]
  },
  {
   "cell_type": "markdown",
   "id": "a214d235-d885-45e2-ae5d-467ec4f6b951",
   "metadata": {},
   "source": [
    "#### Для кластеризации вакансий мы будет использовать признаки: full_description_html - описание вакансии, а также key_skills_str - ключевые навыки кандидата"
   ]
  },
  {
   "cell_type": "markdown",
   "id": "a37573c7-a988-4935-b27f-a4e4a201ae02",
   "metadata": {},
   "source": [
    "## EDA: main feature processing"
   ]
  },
  {
   "cell_type": "markdown",
   "id": "33cb5cfb-f528-4db6-a73c-3892c83456e3",
   "metadata": {},
   "source": [
    "#### Сейчас описание вакансии содержит в себе html разметку, которая затрудняет анализ данных, создает лишний шум."
   ]
  },
  {
   "cell_type": "code",
   "execution_count": 16,
   "id": "ee59ef5b-b16d-4403-8ba8-c72c1c5eba66",
   "metadata": {},
   "outputs": [],
   "source": [
    "def clean_html_text(html_content):\n",
    "    \"\"\"\n",
    "    Очищает HTML-строку от тегов\n",
    "    \"\"\"\n",
    "    if isinstance(html_content, str):\n",
    "        soup = BeautifulSoup(html_content, \"lxml\")\n",
    "        text = soup.get_text(separator=\" \", strip=True)\n",
    "        return text\n",
    "    return np.nan "
   ]
  },
  {
   "cell_type": "code",
   "execution_count": 17,
   "id": "d65514d8-5dc7-473c-83bc-d5a6181b93a2",
   "metadata": {},
   "outputs": [
    {
     "name": "stdout",
     "output_type": "stream",
     "text": [
      "Не удалось обработать значений : 0\n"
     ]
    },
    {
     "data": {
      "text/plain": [
       "0        Основные задачи: Стратегическое планирование :...\n",
       "1        Торгово-производственная компания формирует ко...\n",
       "2        Industrial.Market – инновационная B2B-платформ...\n",
       "3        Директор по маркетингу (чехлы и аксессуары для...\n",
       "4        Клиент: крупная транспортная компания. Обязанн...\n",
       "                               ...                        \n",
       "21824    Оплачиваемая стажировка по треку Операционное ...\n",
       "21825    Чем предстоит заниматься: осуществлять продажи...\n",
       "21826    \"ИРБИС\" - ведущая российская инжиниринговая ко...\n",
       "21827    Обязанности: Выполнение требований законодател...\n",
       "21828    Обязанности Анализировать выполнение коммерчес...\n",
       "Name: full_description, Length: 20776, dtype: object"
      ]
     },
     "execution_count": 17,
     "metadata": {},
     "output_type": "execute_result"
    }
   ],
   "source": [
    "data['full_description'] = data['full_description_html'].apply(clean_html_text)\n",
    "print(f\"Не удалось обработать значений : {data['full_description'].isna().sum()}\")\n",
    "data['full_description']"
   ]
  },
  {
   "cell_type": "code",
   "execution_count": 18,
   "id": "a16c4f81-6dab-46e7-b0aa-c3e00fcb9ca1",
   "metadata": {},
   "outputs": [
    {
     "data": {
      "text/plain": [
       "'Клиент: крупная транспортная компания. Обязанности: Разработка и реализация стратегии цифровой трансформации в соответствии с бизнес-целями компании; Анализ текущих бизнес-процессов и определение возможностей для их цифровизации и автоматизации; Внедрение передовых технологий и платформ для оптимизации логистических процессов и улучшения сервисного обслуживания клиентов; Оценка и выбор IT-решений, включая системы управления складом (WMS), системы отслеживания поставок и другие инструменты; Управление проектами по цифровизации, анализ результатов и оптимизация процессов на основе полученных данных; Сотрудничество с IT-отделом для разработки и внедрения новых цифровых инструментов и платформ; Оценка рисков и разработка мер по их минимизации в процессе цифровой трансформации; Подготовка аналитических отчетов для руководства о прогрессе и результатах цифровой трансформации. Требования: Высшее образование в области бизнеса, ИТ, инжиниринга или смежных дисциплин (MBA является преимуществом); Глубокое понимание современных технологий в области логистики (IoT, Big Data, BI, AI и др.); Опыт управления проектами цифровой трансформации и внедрения IT-решений; Сильные лидерские качества и способность мотивировать команду на изменения; Отличные навыки стратегического мышления, управления командами и ведения переговоров. Знание английского языка на уровне, необходимом для профессионального общения. Условия: Работа в стабильной и развивающейся транспортной компании с высоким уровнем профессионализма; Оформление по ТК РФ; Конкурентная компенсация + KPI + годовая премия (по результатам работы); Корпоративный автомобиль, мобильная связь и другие льготы; Участие в масштабных трансформационных проектах с лидерами рынка. Возможности для развития и повышения квалификации, участие в тренингах и семинарах. Если вас заинтересовала данная вакансия, пожалуйста, отправьте ваш отклик и сопроводительное письмо.'"
      ]
     },
     "execution_count": 18,
     "metadata": {},
     "output_type": "execute_result"
    }
   ],
   "source": [
    "data['full_description'][4]"
   ]
  },
  {
   "cell_type": "markdown",
   "id": "3dbd03ce-132c-45a3-9225-08812ebfc45b",
   "metadata": {},
   "source": [
    "#### Нам удалось избавиться от рассылки, однако признак все еще не готов для последующего анализа. \n",
    "#### Во-первых, он содержит слова, которые не являются информативными для кластеризации, при этом, встречаются довольно часто, что может помещать нам при последующей векторизации описаний. Нам предстоит обнаружить и удалить эти \"стоп-слова\"\n",
    "#### Во-вторых, наши описания по большей части состоят из русского языка, поэтому необходима лемматизация (приведение слов к начальной форме) для эффективного анализа и сокращения размерности будущего словаря."
   ]
  },
  {
   "cell_type": "code",
   "execution_count": 19,
   "id": "6bc8743c-69a4-4209-b6e9-ee6e55f0e5d4",
   "metadata": {},
   "outputs": [
    {
     "name": "stderr",
     "output_type": "stream",
     "text": [
      "[nltk_data] Downloading package stopwords to\n",
      "[nltk_data]     C:\\Users\\Максим\\AppData\\Roaming\\nltk_data...\n",
      "[nltk_data]   Package stopwords is already up-to-date!\n",
      "[nltk_data] Downloading package punkt to\n",
      "[nltk_data]     C:\\Users\\Максим\\AppData\\Roaming\\nltk_data...\n",
      "[nltk_data]   Package punkt is already up-to-date!\n"
     ]
    },
    {
     "data": {
      "text/plain": [
       "True"
      ]
     },
     "execution_count": 19,
     "metadata": {},
     "output_type": "execute_result"
    }
   ],
   "source": [
    "# Используем Natural Language Toolkit (nltk) для загрузки списка стоп-слов и пунктуации\n",
    "nltk.download('stopwords')\n",
    "nltk.download('punkt')   "
   ]
  },
  {
   "cell_type": "code",
   "execution_count": 20,
   "id": "d371d5ca-a43b-4966-977f-baf0e850d7a5",
   "metadata": {},
   "outputs": [],
   "source": [
    "morph = pymorphy3.MorphAnalyzer()\n",
    "russian_stopwords = stopwords.words(\"russian\")"
   ]
  },
  {
   "cell_type": "code",
   "execution_count": 21,
   "id": "0fe0ca43-f7a3-4904-ad01-8e9721326576",
   "metadata": {},
   "outputs": [],
   "source": [
    "custom_stopwords = [\n",
    "    'задача', 'обязанность', 'требование', 'условие', 'опыт', 'работа', 'год', 'лет', \n",
    "    'образование', 'высший', 'навык', 'умение', 'знание', 'понимание', 'уровень', \n",
    "    'преимущество', 'плюс', 'готовность', 'способность', 'качество', 'обязательно', \n",
    "    'желательно', 'компания', 'команда', 'профессионал', 'рост', 'развитие', \n",
    "    'заработный', 'плата', 'оклад', 'бонус', 'премия', 'компенсация', 'руб', \n",
    "    'график', 'формат', 'день', 'оформление', 'трудоустройство', 'официальный', \n",
    "    'тк', 'рф', 'офис', 'доступность', 'место', 'льгота', 'возможность', 'клиент', \n",
    "    'бизнес', 'проект', 'процесс', 'стратегия', 'результат', 'решение', 'платформа', \n",
    "    'инструмент', 'технология', 'рынок', 'отрасль', 'также', 'свой', \n",
    "    'наш', 'ваш', 'др', 'тд', 'тп', 'отклик', 'резюме', 'вакансия', 'пожалуйста', \n",
    "    'этот', 'который', 'такой', 'являться', 'соответствие', 'цель', 'участие', \n",
    "    'внедрение', 'реализация', 'поддержка', 'обеспечение'\n",
    "]\n",
    "\n",
    "# Убираем дубликаты на всякий случай \n",
    "custom_stopwords = list(set(custom_stopwords))\n",
    "\n",
    "russian_stopwords.extend(custom_stopwords)"
   ]
  },
  {
   "cell_type": "code",
   "execution_count": 22,
   "id": "769cd0bf-e94e-4316-8292-f3a5c5a4a163",
   "metadata": {},
   "outputs": [],
   "source": [
    "data['full_description'] = data['full_description'].fillna('') + \" \" + data['key_skills_str'].fillna('')"
   ]
  },
  {
   "cell_type": "code",
   "execution_count": 23,
   "id": "16192841-26e1-4b68-a003-cf9488f016c7",
   "metadata": {},
   "outputs": [],
   "source": [
    "def preprocess_text(text):\n",
    "    \"\"\"\n",
    "    Выполняет токенизацию, очистку от пунктуации, удаление стоп-слов \n",
    "    и лемматизацию текста.\n",
    "    \"\"\"\n",
    "    if not isinstance(text, str) or text is np.nan: # Проверка на NaN или если это не строка\n",
    "        return np.nan\n",
    "\n",
    "    text = text.lower()\n",
    "    text = text.replace('-', ' ')\n",
    "    text = re.sub(r'[^а-яa-z\\s]', '', text) # Оставляем только кириллицу, латиницу и пробелы\n",
    "\n",
    "    tokens = word_tokenize(text, language=\"russian\") # Используем токенизатор nltk, чтобы избежать лишние проблемы (двойные пробелы и т.д.)\n",
    "    \n",
    "    lemmatized_tokens = []\n",
    "    for token in tokens:\n",
    "        lemma = morph.parse(token)[0].normal_form\n",
    "        if lemma not in russian_stopwords and len(lemma) > 2: # Убираем стоп-слова и слова короче 3 символов \n",
    "            lemmatized_tokens.append(lemma)\n",
    "            \n",
    "    return \" \".join(lemmatized_tokens) "
   ]
  },
  {
   "cell_type": "code",
   "execution_count": 24,
   "id": "959d7cac-1fbc-4e8d-bd2a-c54f37f6e61a",
   "metadata": {},
   "outputs": [
    {
     "ename": "FileNotFoundError",
     "evalue": "[Errno 2] No such file or directory: '../data/processed_data/processed_vacancies_dataframe.parquet'",
     "output_type": "error",
     "traceback": [
      "\u001b[1;31m---------------------------------------------------------------------------\u001b[0m",
      "\u001b[1;31mFileNotFoundError\u001b[0m                         Traceback (most recent call last)",
      "Cell \u001b[1;32mIn[24], line 6\u001b[0m\n\u001b[0;32m      4\u001b[0m \u001b[38;5;28;01melse\u001b[39;00m:\n\u001b[0;32m      5\u001b[0m     input_df_filename \u001b[38;5;241m=\u001b[39m \u001b[38;5;124m'\u001b[39m\u001b[38;5;124mprocessed_vacancies_dataframe.parquet\u001b[39m\u001b[38;5;124m'\u001b[39m\n\u001b[1;32m----> 6\u001b[0m     data[\u001b[38;5;124m'\u001b[39m\u001b[38;5;124mfull_description_lemmatized\u001b[39m\u001b[38;5;124m'\u001b[39m] \u001b[38;5;241m=\u001b[39m pd\u001b[38;5;241m.\u001b[39mread_parquet(os\u001b[38;5;241m.\u001b[39mpath\u001b[38;5;241m.\u001b[39mjoin(data_processed_path, input_df_filename))\n",
      "File \u001b[1;32mC:\\anacon\\Lib\\site-packages\\pandas\\io\\parquet.py:667\u001b[0m, in \u001b[0;36mread_parquet\u001b[1;34m(path, engine, columns, storage_options, use_nullable_dtypes, dtype_backend, filesystem, filters, **kwargs)\u001b[0m\n\u001b[0;32m    664\u001b[0m     use_nullable_dtypes \u001b[38;5;241m=\u001b[39m \u001b[38;5;28;01mFalse\u001b[39;00m\n\u001b[0;32m    665\u001b[0m check_dtype_backend(dtype_backend)\n\u001b[1;32m--> 667\u001b[0m \u001b[38;5;28;01mreturn\u001b[39;00m impl\u001b[38;5;241m.\u001b[39mread(\n\u001b[0;32m    668\u001b[0m     path,\n\u001b[0;32m    669\u001b[0m     columns\u001b[38;5;241m=\u001b[39mcolumns,\n\u001b[0;32m    670\u001b[0m     filters\u001b[38;5;241m=\u001b[39mfilters,\n\u001b[0;32m    671\u001b[0m     storage_options\u001b[38;5;241m=\u001b[39mstorage_options,\n\u001b[0;32m    672\u001b[0m     use_nullable_dtypes\u001b[38;5;241m=\u001b[39muse_nullable_dtypes,\n\u001b[0;32m    673\u001b[0m     dtype_backend\u001b[38;5;241m=\u001b[39mdtype_backend,\n\u001b[0;32m    674\u001b[0m     filesystem\u001b[38;5;241m=\u001b[39mfilesystem,\n\u001b[0;32m    675\u001b[0m     \u001b[38;5;241m*\u001b[39m\u001b[38;5;241m*\u001b[39mkwargs,\n\u001b[0;32m    676\u001b[0m )\n",
      "File \u001b[1;32mC:\\anacon\\Lib\\site-packages\\pandas\\io\\parquet.py:267\u001b[0m, in \u001b[0;36mPyArrowImpl.read\u001b[1;34m(self, path, columns, filters, use_nullable_dtypes, dtype_backend, storage_options, filesystem, **kwargs)\u001b[0m\n\u001b[0;32m    264\u001b[0m \u001b[38;5;28;01mif\u001b[39;00m manager \u001b[38;5;241m==\u001b[39m \u001b[38;5;124m\"\u001b[39m\u001b[38;5;124marray\u001b[39m\u001b[38;5;124m\"\u001b[39m:\n\u001b[0;32m    265\u001b[0m     to_pandas_kwargs[\u001b[38;5;124m\"\u001b[39m\u001b[38;5;124msplit_blocks\u001b[39m\u001b[38;5;124m\"\u001b[39m] \u001b[38;5;241m=\u001b[39m \u001b[38;5;28;01mTrue\u001b[39;00m  \u001b[38;5;66;03m# type: ignore[assignment]\u001b[39;00m\n\u001b[1;32m--> 267\u001b[0m path_or_handle, handles, filesystem \u001b[38;5;241m=\u001b[39m _get_path_or_handle(\n\u001b[0;32m    268\u001b[0m     path,\n\u001b[0;32m    269\u001b[0m     filesystem,\n\u001b[0;32m    270\u001b[0m     storage_options\u001b[38;5;241m=\u001b[39mstorage_options,\n\u001b[0;32m    271\u001b[0m     mode\u001b[38;5;241m=\u001b[39m\u001b[38;5;124m\"\u001b[39m\u001b[38;5;124mrb\u001b[39m\u001b[38;5;124m\"\u001b[39m,\n\u001b[0;32m    272\u001b[0m )\n\u001b[0;32m    273\u001b[0m \u001b[38;5;28;01mtry\u001b[39;00m:\n\u001b[0;32m    274\u001b[0m     pa_table \u001b[38;5;241m=\u001b[39m \u001b[38;5;28mself\u001b[39m\u001b[38;5;241m.\u001b[39mapi\u001b[38;5;241m.\u001b[39mparquet\u001b[38;5;241m.\u001b[39mread_table(\n\u001b[0;32m    275\u001b[0m         path_or_handle,\n\u001b[0;32m    276\u001b[0m         columns\u001b[38;5;241m=\u001b[39mcolumns,\n\u001b[1;32m   (...)\u001b[0m\n\u001b[0;32m    279\u001b[0m         \u001b[38;5;241m*\u001b[39m\u001b[38;5;241m*\u001b[39mkwargs,\n\u001b[0;32m    280\u001b[0m     )\n",
      "File \u001b[1;32mC:\\anacon\\Lib\\site-packages\\pandas\\io\\parquet.py:140\u001b[0m, in \u001b[0;36m_get_path_or_handle\u001b[1;34m(path, fs, storage_options, mode, is_dir)\u001b[0m\n\u001b[0;32m    130\u001b[0m handles \u001b[38;5;241m=\u001b[39m \u001b[38;5;28;01mNone\u001b[39;00m\n\u001b[0;32m    131\u001b[0m \u001b[38;5;28;01mif\u001b[39;00m (\n\u001b[0;32m    132\u001b[0m     \u001b[38;5;129;01mnot\u001b[39;00m fs\n\u001b[0;32m    133\u001b[0m     \u001b[38;5;129;01mand\u001b[39;00m \u001b[38;5;129;01mnot\u001b[39;00m is_dir\n\u001b[1;32m   (...)\u001b[0m\n\u001b[0;32m    138\u001b[0m     \u001b[38;5;66;03m# fsspec resources can also point to directories\u001b[39;00m\n\u001b[0;32m    139\u001b[0m     \u001b[38;5;66;03m# this branch is used for example when reading from non-fsspec URLs\u001b[39;00m\n\u001b[1;32m--> 140\u001b[0m     handles \u001b[38;5;241m=\u001b[39m get_handle(\n\u001b[0;32m    141\u001b[0m         path_or_handle, mode, is_text\u001b[38;5;241m=\u001b[39m\u001b[38;5;28;01mFalse\u001b[39;00m, storage_options\u001b[38;5;241m=\u001b[39mstorage_options\n\u001b[0;32m    142\u001b[0m     )\n\u001b[0;32m    143\u001b[0m     fs \u001b[38;5;241m=\u001b[39m \u001b[38;5;28;01mNone\u001b[39;00m\n\u001b[0;32m    144\u001b[0m     path_or_handle \u001b[38;5;241m=\u001b[39m handles\u001b[38;5;241m.\u001b[39mhandle\n",
      "File \u001b[1;32mC:\\anacon\\Lib\\site-packages\\pandas\\io\\common.py:882\u001b[0m, in \u001b[0;36mget_handle\u001b[1;34m(path_or_buf, mode, encoding, compression, memory_map, is_text, errors, storage_options)\u001b[0m\n\u001b[0;32m    873\u001b[0m         handle \u001b[38;5;241m=\u001b[39m \u001b[38;5;28mopen\u001b[39m(\n\u001b[0;32m    874\u001b[0m             handle,\n\u001b[0;32m    875\u001b[0m             ioargs\u001b[38;5;241m.\u001b[39mmode,\n\u001b[1;32m   (...)\u001b[0m\n\u001b[0;32m    878\u001b[0m             newline\u001b[38;5;241m=\u001b[39m\u001b[38;5;124m\"\u001b[39m\u001b[38;5;124m\"\u001b[39m,\n\u001b[0;32m    879\u001b[0m         )\n\u001b[0;32m    880\u001b[0m     \u001b[38;5;28;01melse\u001b[39;00m:\n\u001b[0;32m    881\u001b[0m         \u001b[38;5;66;03m# Binary mode\u001b[39;00m\n\u001b[1;32m--> 882\u001b[0m         handle \u001b[38;5;241m=\u001b[39m \u001b[38;5;28mopen\u001b[39m(handle, ioargs\u001b[38;5;241m.\u001b[39mmode)\n\u001b[0;32m    883\u001b[0m     handles\u001b[38;5;241m.\u001b[39mappend(handle)\n\u001b[0;32m    885\u001b[0m \u001b[38;5;66;03m# Convert BytesIO or file objects passed with an encoding\u001b[39;00m\n",
      "\u001b[1;31mFileNotFoundError\u001b[0m: [Errno 2] No such file or directory: '../data/processed_data/processed_vacancies_dataframe.parquet'"
     ]
    }
   ],
   "source": [
    "if not embeddings_matrix_calculated:\n",
    "    data['full_description_lemmatized'] = data['full_description'].apply(preprocess_text)\n",
    "    data['full_description_lemmatized']\n",
    "else:\n",
    "    input_df_filename = 'processed_vacancies_dataframe.parquet'\n",
    "    data['full_description_lemmatized'] = pd.read_parquet(os.path.join(data_processed_path, input_df_filename))"
   ]
  },
  {
   "cell_type": "code",
   "execution_count": null,
   "id": "c26f1c5f-65cc-4b64-910e-06bce356e50a",
   "metadata": {},
   "outputs": [],
   "source": [
    "# feature_lemmatized_df = pd.DataFrame(data['full_description_lemmatized'])\n",
    "\n",
    "# output_df_filename = \"processed_vacancies_dataframe.parquet\"\n",
    "# feature_lemmatized_df.to_parquet(os.path.join(data_processed_path, output_df_filename), index=False) "
   ]
  },
  {
   "cell_type": "code",
   "execution_count": null,
   "id": "6104ba76-ad27-43f1-aa7f-4e0afcd6da9c",
   "metadata": {},
   "outputs": [
    {
     "name": "stdout",
     "output_type": "stream",
     "text": [
      "основной стратегический планирование разработка цифровой трансформация общий включая банковский направление анализ оптимизация анализ текущий определение цифровизация автоматизация передовой оптимизация улучшение сервисный обслуживание оценка выбор оценка риск разработка мера минимизация цифровой трансформация оценка выбор эффективный управление управление цифровизация анализ оптимизация основа получить данные сотрудничество отдел разработка новый цифровой высокий область инжиниринг смежный дисциплина mba глубокий современный область финансы банковский телеком iot big data аналогичный должность аналогичный роль входящий топ банк телек commerce экспертный управление человек успешный подтвердить управление цифровой трансформация мыслить масштабно стратегически мотивировать изменение новый отличный стратегический мышление управление ведение переговоры прикладной крупный цифровизация трансформация управление изменение высокий технический экспертиза инфраструктура сеть разработка sap система далее широкий кругозор область отличный принцип серверный система база данные информационный безопасность лидер высокий профессионализм интересный амбициозный максимальный потенциал влияние переезд нахождение снг переезд обязательный вознаграждение годовой гибко обсуждать успешный кандидат масштабный трансформационный цифровой трансформация\n",
      "\n",
      "торговый производственный формировать выполнение летний стратегический план управление мультиканальный система продажа включать федеральный сеть корпоративный отдел horeca корпоративный интеграция экосистема com retail travel retail сегмент продажа география продажа вид продажа разработка финансовый план бюджетирование управление кадр подбор адаптация обучение мотивация аттестация формирование продуктовый портфель автоматизация деятельность маркетинг высокий менеджмент маркетинг финансы руководящий должность косметический пищевой fmcg продвинуть пользователь bitrix power система английский ниже upper intermediate высокий годовой lti комфортный рабочий шаговый чистый пруд управление персонал бюджетирование анализ финансовый показатель планирование стратегический менеджмент финансовый планирование управление ресурс коммерческий разработка долгосрочный система мотивация деловой коммуникация английский язык публичный выступление\n",
      "\n",
      "industrialmarket инновационный промышленный холдинг корпорация дистрибьютор производитель поставщик помогать снизить операционный издержка сделать закупка малоценный товар безопасный предсказуемый удобный сегодня industrialmarket работать проверить поставщик реализовать заявка месяц крупный малое среднее каждый днм число расти динамично развиваться расширяться нужно делать организовать бесперебойный система лидогенерация крупный среднее промышленный сектор экономика организация offline маркетинг завтрак конференция связка online канал привлечение performance media онлайн вебинар разработать запустить программа лояльность потенциальный действовать маркетплейс планировать управлять маркетинговый бюджет формировать бюджет kpi метрика прогнозировать оцифрованный трексить модель регулярно оценивать эффективность вклад маркетинговый инвестиция digital offline performance media метрика gmv cac ltv romi retention системно проводить факторный анализ данные оценка показатель разбор причина план дальнейший действие регулярный основа искать точка измерять эффективность использовать канал источник привлечение показатель метрика формировать предложение оптимизация маркетинговый активность поиск наиболее эффективный распределение инвестиция канал источник совместно аналитик внедрить сквозной аналитик лида разрез сегмент канал источник развивать бренд формировать имидж отвечать продвижение маркетплейс отдельный продукт внутри проводить анализ конкурент исследовать потенциальный составлять сегментация портрет целевой аудитория разработать политика внедрить система внешний внутренний коммуникация весь сегмент пользователь внутри нанимать развивать управлять маркетинг дизайн выстроить систематизировать маркетинг обеспечивать синергия взаимодействие активность маркетинг продукт продажа распространение формирование имидж лидогенерация укрепление лояльность отток выстроить взаимосвязанный комплекс активность достижение ключевой направление использовать всё канал коммуникация digital email crm контент маркетинг online offline мероприятие smm формировать улучшение сайт презентация внутренний внешний заказчик инвестор партнр обмен подразделение продуктовый аналитик исследование формировать согласовывать система мотивация сотрудник решать спорный ситуация работать командный достижение целевой показатель принимать кросс функциональный инициатива стимулировать проведение управление маркетинговый эксперимент внутри коммерческий блок регулярный основа взаимодействовать продукт понимать нужно двигаться работать общий продукт ждать руководить маркетинг обязательный ecom иить saas подтвердить разработка маркетинговый ecom иить saas стартап ранний средний стадия жизнь иметь успешный построение система привлечение организация offline online мероприятие уметь качественно организовывать offline мероприятие разный масштаб уметь организовывать поток отлично справляться приоритезация маркетинговый беклог срочность трудоёмкость влияние принимать разработка трексить модель моделировать спрос строить прогноз поддерживать рабочий состояние актуализировать дать обновлять коэффициент заниматься автоматизация уметь работать данные оценивать эффективность канал привлечение offline online наружный digital performance реклама строить оптимизационный алгоритм канал привлечение бюджет kpi сплит канал распределение неделя месяц понимать устройство работать больший массив данные уметь находить причинный следственный связь вывод уметь принимать основать анализ данные бенчмарка понимать бенчмарка маркетинг ecom иить saas подтвердить управление наём маркетинг автономный повседневный принятие операционный быстро погружаться новый предметный область очень амбициозный инициативный проактивный достижение плотно взаимодействовать продажа продукт понимать arpu ltv romi главное знать повлиять метрика ориентироваться тренд маркетинг фокус saas иить маркетплейс всё перечисленный скорее откликаться профессиональный среда рукий водить уметь вдохновлять сотрудник настоящий увлечь делать готовый делиться экспертиза безграничный кросс функциональный крупный промышленный agile открытый корпоративный культура атмосфера доверие сотрудничество аккредитовать бессрочный трудовой договор гибридный дмс сотрудник включая стоматология скидка медицинский страховка родственник доплата больничный лист скидка партнров программа сотрудник член семья добросервис бесплатный онлайн консультация юрист врач зож консультант психолог финансовый советник маркетинг продвижение бренд стратегический планирование маркетинговый анализ маркетинговый коммуникация\n",
      "\n"
     ]
    }
   ],
   "source": [
    "print(data['full_description_lemmatized'][0], end='\\n'*2)\n",
    "print(data['full_description_lemmatized'][1], end='\\n'*2)\n",
    "print(data['full_description_lemmatized'][2], end='\\n'*2)"
   ]
  },
  {
   "cell_type": "markdown",
   "id": "dd787c5f-ae4a-49e0-9698-0dc70544d9b4",
   "metadata": {},
   "source": [
    "##### Мы не оставили в признаки цифры и дефисы, так как они не несут в себе добавочной описательно информативности. Цифры - чаще всего опыт или \"конфигурация\" ключевого навыка (Python3), которую мы можем получить из ключевых навыков. Дефисное описание можно обработать, не удалив дефис, однако, могут вознрикнуть проблемы на этапет лемматизации. Удаление дефиса с одной стороны заставляет слово слипнуться, я другой стороны, сохраняет в нем значимый контекст."
   ]
  },
  {
   "cell_type": "markdown",
   "id": "fa435bbf-5032-4fae-84f6-ea7c35035154",
   "metadata": {},
   "source": [
    "#### После полноценной обработки описания вакансий (мы удалили знаки препинания, цифры, привели текст к нижнему регистру, сделали лемматизацию) нам предстоит векторизация признака, которая и позволит нам в дальшейшем осуществить кластеризацию вакансий по текстовому описанию"
   ]
  },
  {
   "cell_type": "markdown",
   "id": "5c403f14-16b6-473f-85d7-95b57436b30d",
   "metadata": {},
   "source": [
    "## Векторизация"
   ]
  },
  {
   "cell_type": "markdown",
   "id": "dae5c42c-6d98-4e1c-b5be-3d1f8b40976a",
   "metadata": {},
   "source": [
    "##### Сначала попробуем использовать векторизацию TF-IDF, суть которой заклбчается в присваивании каждому слову в каждом документе (вакансии). Этот вес тем выше, чем: \n",
    "##### - Чаще слово встречается в данном конкретном документе (TF - Term Frequency). \n",
    "##### - Реже слово встречается во всех остальных документах корпуса (IDF - Inverse Document Frequency).\n",
    "##### - Идея в том, что слова, часто встречающиеся в одной вакансии, но редкие в других, хорошо характеризуют именно эту вакансию. Слишком общие слова (встречающиеся везде) получат низкий вес IDF."
   ]
  },
  {
   "cell_type": "code",
   "execution_count": 26,
   "id": "0eac5be6-3096-4854-bde4-d6bb6deab268",
   "metadata": {},
   "outputs": [],
   "source": [
    "tfidf_test = data['full_description_lemmatized'].copy()"
   ]
  },
  {
   "cell_type": "markdown",
   "id": "6546898f-8060-49fa-b541-3bc0688f0c69",
   "metadata": {},
   "source": [
    "### TF_IDF Unigram + Bigram"
   ]
  },
  {
   "cell_type": "code",
   "execution_count": 27,
   "id": "a407502c-ed91-4239-b3f9-75a19d8277b2",
   "metadata": {},
   "outputs": [],
   "source": [
    "if not embeddings_matrix_calculated:\n",
    "    tfidf_vectorizer = TfidfVectorizer(\n",
    "        min_df=20, \n",
    "        max_df=0.6, \n",
    "        ngram_range=(1, 2) \n",
    "    )\n",
    "    tfidf_matrix = tfidf_vectorizer.fit_transform(tfidf_test)\n",
    "    \n",
    "    print(f\"Размерность полученной TF-IDF матрицы: {tfidf_matrix.shape}\")\n",
    "else:\n",
    "    tfidf_vectorizer = tfidf_vectorizer_uni_bi\n",
    "    tfidf_matrix = tfidf_matrix_uni_bi\n"
   ]
  },
  {
   "cell_type": "code",
   "execution_count": 28,
   "id": "5551574d-90f3-475f-ad34-9e9cf1c230d9",
   "metadata": {},
   "outputs": [
    {
     "name": "stdout",
     "output_type": "stream",
     "text": [
      "Пример первых 50 признаков: ['abap' 'abc' 'abc анализ' 'ability' 'ability work' 'able' 'about'\n",
      " 'about the' 'above' 'academic' 'academy' 'acca' 'acceptance'\n",
      " 'acceptance criteria' 'access' 'accordance' 'according' 'account'\n",
      " 'account management' 'account manager' 'accounts' 'accuracy' 'achieve'\n",
      " 'acquisition' 'across' 'across the' 'action' 'actionable' 'actions'\n",
      " 'active' 'active directory' 'actively' 'activemq' 'activities' 'activity'\n",
      " 'adapt' 'adaptation' 'additional' 'adhoc' 'adhoc запрос' 'adindex'\n",
      " 'adindex awards' 'adjust' 'admin' 'administration' 'adobe'\n",
      " 'adobe illustrator' 'adobe photoshop' 'adr' 'ads']\n",
      "Пример последних 50 признаков: ['ялта' 'яметрика' 'январь' 'яндекс' 'яндекс google' 'яндекс директ'\n",
      " 'яндекс маркет' 'яндекс метрика' 'яндекс практикум' 'яндексwordstat'\n",
      " 'яндексвебмастер' 'яндексдирект' 'яндексдирект ads' 'яндексдирект google'\n",
      " 'яндексдирект telegram' 'яндексдирект интернет'\n",
      " 'яндексдирект яндексметрик' 'яндексмаркет' 'яндексметрик'\n",
      " 'яндексметрик excel' 'яндексметрик google' 'яндексметрик power'\n",
      " 'яндексметрик веб' 'яндексметрик интернет' 'яндексметрик яндексвебмастер'\n",
      " 'яндексметрик яндексдирект' 'яндексметрика' 'яндексметрика google'\n",
      " 'яндекстрекер' 'японский' 'яркий' 'яркий выступление'\n",
      " 'яркий запоминаться' 'яркий корпоратив' 'яркий корпоративный'\n",
      " 'яркий насыщенный' 'яркий праздник' 'ярко' 'ярмарка' 'ярославль' 'ясно'\n",
      " 'ясно излагать' 'ясно онлайн' 'ясно формулировать' 'ясность' 'ясный'\n",
      " 'ёлка' 'ёлка защита' 'ёмко' 'ёмкость']\n"
     ]
    }
   ],
   "source": [
    "feature_names = tfidf_vectorizer.get_feature_names_out()\n",
    "print(f\"Пример первых 50 признаков: {feature_names[:50]}\")\n",
    "print(f\"Пример последних 50 признаков: {feature_names[-50:]}\")"
   ]
  },
  {
   "cell_type": "markdown",
   "id": "a9b48aa3-735a-4128-9a00-ff4a11de8a77",
   "metadata": {},
   "source": [
    "##### При тестовых параметрах векторизатора: min_df=5, max_df=0.7, ngram_range=(1, 2)\n",
    "\n",
    "1. Размерность полученной TF-IDF матрицы: (20776, 168773) (взрыв размерности из-за разнообразия вакансий ==> биграмм)\n",
    "2. Много мусорных n-грамм\n",
    "3. Вывод - ужесточить критерии для отбора n-грамм."
   ]
  },
  {
   "cell_type": "markdown",
   "id": "3a1a754b-058a-4da6-b227-47de05e3f1a8",
   "metadata": {},
   "source": [
    "##### min_df=20, max_df=0.6, ngram_range=(1, 2) - оптимальные параметры, ограничивающие мусорные n-граммы и обеспечивающие репрезентативность"
   ]
  },
  {
   "cell_type": "markdown",
   "id": "7d2ab7da-15bc-4bfa-a2d8-da61c9daf2eb",
   "metadata": {},
   "source": [
    "Хотя мы и снизили размерность, признаковое пространство все еще зашумлено. Попробуем использовать только униграммы для векторизации"
   ]
  },
  {
   "cell_type": "markdown",
   "id": "5066b3fb-681b-427b-b691-7115753460b5",
   "metadata": {},
   "source": [
    "### Unigram TF-IDF"
   ]
  },
  {
   "cell_type": "code",
   "execution_count": 29,
   "id": "32d8c669-2ca0-4913-8176-f2eff4d9a5c7",
   "metadata": {},
   "outputs": [],
   "source": [
    "if not embeddings_matrix_calculated:\n",
    "    tfidf_vectorizer_uni = TfidfVectorizer(\n",
    "        min_df=20, \n",
    "        max_df=0.6, \n",
    "        ngram_range=(1, 1) \n",
    "    )\n",
    "    \n",
    "    print(\"Начинаю TF-IDF векторизацию...\")\n",
    "    \n",
    "    # 2. Обучение и трансформация данных из 'processed_text'\n",
    "    tfidf_matrix_unigrams = tfidf_vectorizer_uni.fit_transform(tfidf_test)\n",
    "    \n",
    "    print(\"TF-IDF векторизация завершена.\")\n",
    "    \n",
    "    # 3. Анализ результата\n",
    "    print(f\"Размерность полученной TF-IDF матрицы: {tfidf_matrix_unigrams.shape}\")\n",
    "else:\n",
    "    tfidf_vectorizer_uni = tfidf_vectorizer_uni\n",
    "    tfidf_matrix_unigrams = tfidf_matrix_uni"
   ]
  },
  {
   "cell_type": "code",
   "execution_count": 30,
   "id": "16a0982a-ab0a-45ad-a761-d039fbe03cdb",
   "metadata": {},
   "outputs": [
    {
     "name": "stdout",
     "output_type": "stream",
     "text": [
      "Пример первых 50 признаков: ['abap' 'abc' 'ability' 'able' 'about' 'above' 'academic' 'academy' 'acca'\n",
      " 'acceptance' 'access' 'accordance' 'according' 'account' 'accounts'\n",
      " 'accuracy' 'achieve' 'acquisition' 'across' 'action' 'actionable'\n",
      " 'actions' 'active' 'actively' 'activemq' 'activities' 'activity' 'adapt'\n",
      " 'adaptation' 'additional' 'adhoc' 'adindex' 'adjust' 'admin'\n",
      " 'administration' 'adobe' 'adr' 'ads' 'adtech' 'advanced' 'advantage'\n",
      " 'advertising' 'adwords' 'affiliate' 'after' 'afterwork' 'agency' 'agent'\n",
      " 'agile' 'agilescrum']\n",
      "Пример последних 50 признаков: ['эффективно' 'эффективность' 'эффективный' 'эцп' 'юбилей' 'ювелирный'\n",
      " 'юго' 'южный' 'юзабилить' 'юзер' 'юзтех' 'юла' 'юмор' 'юнит'\n",
      " 'юридический' 'юрисдикция' 'юриспруденция' 'юрист' 'юрлицо' 'яблоко'\n",
      " 'явление' 'явный' 'ядерный' 'ядирект' 'ядро' 'язык' 'языкаабонемент'\n",
      " 'языковой' 'ялта' 'яметрика' 'январь' 'яндекс' 'яндексwordstat'\n",
      " 'яндексвебмастер' 'яндексдирект' 'яндексмаркет' 'яндексметрик'\n",
      " 'яндексметрика' 'яндекстрекер' 'японский' 'яркий' 'ярко' 'ярмарка'\n",
      " 'ярославль' 'ясно' 'ясность' 'ясный' 'ёлка' 'ёмко' 'ёмкость']\n"
     ]
    }
   ],
   "source": [
    "feature_names_uni = tfidf_vectorizer_uni.get_feature_names_out()\n",
    "print(f\"Пример первых 50 признаков: {feature_names_uni[:50]}\")\n",
    "print(f\"Пример последних 50 признаков: {feature_names_uni[-50:]}\")"
   ]
  },
  {
   "cell_type": "code",
   "execution_count": null,
   "id": "d1e4a07e-3947-4019-a2d9-d708fe563223",
   "metadata": {},
   "outputs": [],
   "source": [
    "# matrix_uni_filename = os.path.join(data_processed_path, \"tfidf_matrix_unigrams.npz\")\n",
    "# vectorizer_uni_filename = os.path.join(data_processed_path, \"tfidf_vectorizer_unigrams.pkl\")\n",
    "# try:\n",
    "#     save_npz(matrix_uni_filename, tfidf_matrix_unigrams) # Матрицу как npz\n",
    "#     with open(vectorizer_uni_filename, 'wb') as f_vec: # Векторизатор как pkl\n",
    "#         pickle.dump(tfidf_vectorizer_uni, f_vec)\n",
    "#     print(f\"TF-IDF (униграммы) матрица и векторизатор сохранены.\")\n",
    "# except Exception as e:\n",
    "#     print(f\"Ошибка при сохранении TF-IDF (униграммы): {e}\")\n",
    "\n",
    "# # Сохраняем версию с уни+биграммами (если есть)\n",
    "# matrix_uni_bi_filename = os.path.join(data_processed_path, \"tfidf_matrix_uni_bigrams.npz\")\n",
    "# vectorizer_uni_bi_filename = os.path.join(data_processed_path, \"tfidf_vectorizer_uni_bigrams.pkl\")\n",
    "# try:\n",
    "#     save_npz(matrix_uni_bi_filename, tfidf_matrix) \n",
    "#     with open(vectorizer_uni_bi_filename, 'wb') as f_vec_bi:\n",
    "#         pickle.dump(tfidf_vectorizer, f_vec_bi)\n",
    "#     print(f\"TF-IDF (уни+биграммы) матрица и векторизатор сохранены.\")\n",
    "# except NameError: # Если этих переменных нет\n",
    "#      print(\"TF-IDF (уни+биграммы) не сохранялись (переменные не найдены).\")\n",
    "# except Exception as e:\n",
    "#     print(f\"Ошибка при сохранении TF-IDF (уни+биграммы): {e}\")"
   ]
  },
  {
   "cell_type": "markdown",
   "id": "c56c7453-637d-4004-b82a-beea950b31f0",
   "metadata": {},
   "source": [
    "Несмотря на все предпринятиы меры, размерность пространства все еще велика, что, учитывая использование n-граммов, делает пространство очень разреженным (приходится отбросить некоторые алгоритмы кластеризации из-за такого условия). Попробуем использовать более современный метод, который не только может дать качественное улучшение, но и снизит размерность пространства"
   ]
  },
  {
   "cell_type": "markdown",
   "id": "f71d0a64-afba-45c2-8f30-8227c3a4a5d2",
   "metadata": {},
   "source": [
    "### SBERT"
   ]
  },
  {
   "cell_type": "code",
   "execution_count": null,
   "id": "7e117037-9821-45b8-94d2-1e63dd60eea1",
   "metadata": {},
   "outputs": [
    {
     "name": "stdout",
     "output_type": "stream",
     "text": [
      "(20776, 384)\n"
     ]
    }
   ],
   "source": [
    "if not embeddings_matrix_calculated:\n",
    "    sbert_model = SentenceTransformer(\"paraphrase-multilingual-MiniLM-L12-v2\")\n",
    "    \n",
    "    sbert_test_PMMv2 = data['full_description_lemmatized'].copy()\n",
    "    description_to_encode = sbert_test_PMMv2.fillna('').tolist() \n",
    "    \n",
    "    sbert_embeddings = sbert_model.encode(description_to_encode, show_progress_bar=True) \n",
    "    \n",
    "    print(sbert_embeddings.shape)\n",
    "    np.save(os.path.join(data_processed_path, \"sbert_embeddings.npy\"), sbert_embeddings)\n",
    "else:\n",
    "    sbert_embeddings = embeddings_minilm\n",
    "    print(sbert_embeddings.shape)"
   ]
  },
  {
   "cell_type": "markdown",
   "id": "6077d993-64b7-492c-8e66-d5e5f3abafc6",
   "metadata": {},
   "source": [
    "##### На всякий случай будем держать наготове более тяжелые модели: sentence-transformers/paraphrase-multilingual-mpnet-base-v2 и sberbank-ai/sbert_large_nlu_ru"
   ]
  },
  {
   "cell_type": "code",
   "execution_count": null,
   "id": "50b5d424-9d91-4a40-8504-9e85c3f7ef2f",
   "metadata": {},
   "outputs": [
    {
     "name": "stdout",
     "output_type": "stream",
     "text": [
      "(20776, 768)\n"
     ]
    }
   ],
   "source": [
    "if not embeddings_matrix_calculated:\n",
    "    sbert_model_base = SentenceTransformer(\"paraphrase-multilingual-mpnet-base-v2\")\n",
    "    \n",
    "    sbert_test_PMM_base_v2 = data['full_description_lemmatized'].copy()\n",
    "    description_to_encode_base = sbert_test_PMM_base_v2.fillna('').tolist() \n",
    "    \n",
    "    sbert_base_embeddings = sbert_model_base.encode(description_to_encode_base, show_progress_bar=True) \n",
    "    \n",
    "    print(sbert_base_embeddings.shape)\n",
    "    np.save(os.path.join(data_processed_path, \"sbert_base_embeddings.npy\"), sbert_base_embeddings)\n",
    "else:\n",
    "    sbert_base_embeddings = embeddings_base\n",
    "    print(sbert_base_embeddings.shape)"
   ]
  },
  {
   "cell_type": "code",
   "execution_count": 34,
   "id": "945bbde6-98c2-44aa-b105-d57dd98742a0",
   "metadata": {},
   "outputs": [],
   "source": [
    "# model_name_sber = 'ai-forever/sbert_large_nlu_ru'\n",
    "# sbert_model_sber = SentenceTransformer(model_name_sber)\n",
    "\n",
    "# sbert_test_sber = data['full_description_lemmatized'].copy()\n",
    "# description_to_encode_sber = sbert_test_sber.fillna('').tolist() \n",
    "\n",
    "# embeddings_sber = sbert_model_sber.encode(\n",
    "#         texts_to_encode, \n",
    "#         show_progress_bar=True,\n",
    "#         batch_size=16 \n",
    "#     )\n",
    "# print(f\"Размерность полученного массива эмбеддингов ({model_name_sber}): {embeddings_sber.shape}\")\n",
    "\n",
    "# output_filename_sber = \"sbert_embeddings_sber_large.npy\"\n",
    "# np.save(output_filename_sber, embeddings_sber)"
   ]
  },
  {
   "cell_type": "markdown",
   "id": "8199112b-5a48-46d9-b6c1-beea375e66e6",
   "metadata": {},
   "source": [
    "#### Теперь мы имеем три образца векторизированного пространства. Прежде чем приступать к кластеризации, визуализируем полученные простратства, используя t-SNE"
   ]
  },
  {
   "cell_type": "markdown",
   "id": "42342e9a-2a49-4710-a5f3-9dcfe768dc14",
   "metadata": {},
   "source": [
    "##### Кратко о t-SNE: метод позволяет многомерные данные в низкой размерности (обычно 2D или 3D) так, чтобы сохранить локальную структуру. То есть точки, которые были близки друг к другу в исходном многомерном пространстве, должны остаться близки и на 2D-графике."
   ]
  },
  {
   "cell_type": "code",
   "execution_count": null,
   "id": "03415abb-51ef-4fe3-b0ec-3e79099790e1",
   "metadata": {},
   "outputs": [
    {
     "ename": "SyntaxError",
     "evalue": "invalid syntax. Perhaps you forgot a comma? (2455530263.py, line 18)",
     "output_type": "error",
     "traceback": [
      "\u001b[1;36m  Cell \u001b[1;32mIn[35], line 18\u001b[1;36m\u001b[0m\n\u001b[1;33m    alpha=0.5, й\u001b[0m\n\u001b[1;37m               ^\u001b[0m\n\u001b[1;31mSyntaxError\u001b[0m\u001b[1;31m:\u001b[0m invalid syntax. Perhaps you forgot a comma?\n"
     ]
    }
   ],
   "source": [
    "tsne = TSNE(\n",
    "    n_components=2, \n",
    "    perplexity=30, \n",
    "    n_iter=1000,         \n",
    "    random_state=42 \n",
    ")\n",
    "\n",
    "tsne_results = tsne.fit_transform(sbert_embeddings) \n",
    "\n",
    "print(f\"Размерность результата t-SNE: {tsne_results.shape}\") # Должно быть (N, 2)\n",
    "\n",
    "tsne_df = pd.DataFrame(data=tsne_results, columns=['tsne-2d-one', 'tsne-2d-two'])\n",
    "\n",
    "plt.figure(figsize=(12, 8))\n",
    "sns.scatterplot(\n",
    "    x=\"tsne-2d-one\", y=\"tsne-2d-two\",\n",
    "    data=tsne_df,\n",
    "    alpha=0.5,\n",
    "    s=30       \n",
    ")\n",
    "plt.title('t-SNE визуализация SBERT эмбеддингов (paraphrase-multilingual-MiniLM-L12-v2)')\n",
    "plt.xlabel('t-SNE Компонента 1')\n",
    "plt.ylabel('t-SNE Компонента 2')\n",
    "plt.grid(True)\n",
    "plt.show()"
   ]
  },
  {
   "cell_type": "code",
   "execution_count": null,
   "id": "5e755c3b-4cda-4627-a83e-b11a8b338496",
   "metadata": {},
   "outputs": [],
   "source": [
    "plt.figure(figsize=(8, 7))\n",
    "sns.kdeplot(\n",
    "    x=tsne_results[:, 0], \n",
    "    y=tsne_results[:, 1], \n",
    "    fill=True, \n",
    "    cmap=\"viridis\", \n",
    "    thresh=0.02, \n",
    "    n_levels=50\n",
    ")\n",
    "plt.title('Карта плотности (KDE) t-SNE для SBERT (paraphrase-multilingual-mpnet-base-v2)')\n",
    "plt.xlabel('t-SNE Компонента 1')\n",
    "plt.ylabel('t-SNE Компонента 2')\n",
    "plt.grid(True)\n",
    "plt.axis('equal')\n",
    "plt.show()"
   ]
  },
  {
   "cell_type": "code",
   "execution_count": null,
   "id": "e12d8daf-77e4-4bf9-8882-0dd17362c8b7",
   "metadata": {},
   "outputs": [],
   "source": [
    "tsne_base = TSNE(\n",
    "    n_components=2, \n",
    "    perplexity=30, \n",
    "    n_iter=1000,         \n",
    "    random_state=42 \n",
    ")\n",
    "\n",
    "tsne_results_base = tsne_base.fit_transform(sbert_base_embeddings) \n",
    "\n",
    "print(f\"Размерность результата t-SNE: {tsne_results_base.shape}\") \n",
    "\n",
    "tsne_df_base = pd.DataFrame(data=tsne_results_base, columns=['tsne-2d-one', 'tsne-2d-two'])\n",
    "\n",
    "plt.figure(figsize=(12, 8))\n",
    "sns.scatterplot(\n",
    "    x=\"tsne-2d-one\", y=\"tsne-2d-two\",\n",
    "    data=tsne_df_base,\n",
    "    alpha=0.5, \n",
    "    s=30      \n",
    ")\n",
    "plt.title('t-SNE визуализация SBERT эмбеддингов (paraphrase-multilingual-mpnet-base-v2)')\n",
    "plt.xlabel('t-SNE Компонента 1')\n",
    "plt.ylabel('t-SNE Компонента 2')\n",
    "plt.grid(True)\n",
    "plt.show()"
   ]
  },
  {
   "cell_type": "code",
   "execution_count": null,
   "id": "7332f4de-19be-4084-9296-a769c3edac96",
   "metadata": {},
   "outputs": [],
   "source": [
    "plt.figure(figsize=(8, 7))\n",
    "sns.kdeplot(\n",
    "    x=tsne_results_base[:, 0], \n",
    "    y=tsne_results_base[:, 1], \n",
    "    fill=True, \n",
    "    cmap=\"viridis\", \n",
    "    thresh=0.02, \n",
    "    n_levels=50\n",
    ")\n",
    "plt.title('Карта плотности (KDE) t-SNE для SBERT (paraphrase-multilingual-mpnet-base-v2)')\n",
    "plt.xlabel('t-SNE Компонента 1')\n",
    "plt.ylabel('t-SNE Компонента 2')\n",
    "plt.grid(True)\n",
    "plt.axis('equal')\n",
    "plt.show()"
   ]
  },
  {
   "cell_type": "markdown",
   "id": "bb043f79-d316-45fc-a9d8-01858a9f08e2",
   "metadata": {},
   "source": [
    "Для визуализации пространств, полученных методом векторизации TF-IDF нам необходимо снизить размерность пространства, чтобы понизить вычислительную сложность для t-SNE, а также избавиться от лишнего шума. Для снижения размерности будем использовать Truncated SVD, алгоритм, который похож на метод главных компонент PCA, но показывает качество лучше на разреженных пространствах"
   ]
  },
  {
   "cell_type": "code",
   "execution_count": null,
   "id": "3cd6dd88-0e71-4adf-8e6b-64108c6c9506",
   "metadata": {},
   "outputs": [],
   "source": [
    "n_svd_components = 100 # Количество компонент SVD (гиперпараметр)\n",
    "\n",
    "svd = TruncatedSVD(n_components=n_svd_components, random_state=42)\n",
    "tfidf_svd_results = svd.fit_transform(tfidf_matrix)\n",
    "\n",
    "tsne_tfidf = TSNE(\n",
    "    n_components=2, \n",
    "    perplexity=30, \n",
    "    n_iter=1000, \n",
    "    learning_rate='auto', \n",
    "    init='pca', \n",
    "    random_state=42\n",
    ")\n",
    "\n",
    "tsne_results_tfidf = tsne_tfidf.fit_transform(tfidf_svd_results)\n",
    "\n",
    "tsne_tfidf_df = pd.DataFrame(data=tsne_results_tfidf, columns=['tsne-2d-one', 'tsne-2d-two'])\n",
    "\n",
    "plt.figure(figsize=(12, 8))\n",
    "sns.scatterplot(\n",
    "    x=\"tsne-2d-one\", y=\"tsne-2d-two\",\n",
    "    data=tsne_tfidf_df,\n",
    "    alpha=0.5,\n",
    "    s=30\n",
    ")\n",
    "plt.title(f't-SNE визуализация TF-IDF с униграммами и биграммами (после TruncatedSVD до {n_svd_components} компонент)')\n",
    "plt.xlabel('t-SNE Компонента 1')\n",
    "plt.ylabel('t-SNE Компонента 2')\n",
    "plt.grid(True)\n",
    "plt.show()"
   ]
  },
  {
   "cell_type": "code",
   "execution_count": null,
   "id": "484e71df-2611-45ea-b3f2-078bd5fe5c0b",
   "metadata": {},
   "outputs": [],
   "source": [
    "# --- Построение карты плотности с помощью KDE ---\n",
    "plt.figure(figsize=(8, 7))\n",
    "sns.kdeplot(\n",
    "    x=tsne_results_tfidf[:, 0], \n",
    "    y=tsne_results_tfidf[:, 1], \n",
    "    fill=True, \n",
    "    cmap=\"viridis\", \n",
    "    thresh=0.02, \n",
    "    n_levels=50   \n",
    ")\n",
    "plt.title(f'Карта плотности (KDE) t-SNE для TF-IDF (SVD до {n_svd_components} комп.)')\n",
    "plt.xlabel('t-SNE Компонента 1')\n",
    "plt.ylabel('t-SNE Компонента 2')\n",
    "plt.grid(True)\n",
    "plt.axis('equal') \n",
    "plt.show()"
   ]
  },
  {
   "cell_type": "code",
   "execution_count": null,
   "id": "0ec7ff27-c057-40a6-a301-d7659e850174",
   "metadata": {},
   "outputs": [],
   "source": [
    "n_svd_components = 100 # Количество компонент SVD (гиперпараметр)\n",
    "\n",
    "svd = TruncatedSVD(n_components=n_svd_components, random_state=42)\n",
    "tfidf_svd_uni_results = svd.fit_transform(tfidf_matrix_uni)\n",
    "\n",
    "tsne_tfidf_uni = TSNE(\n",
    "    n_components=2, \n",
    "    perplexity=30, \n",
    "    n_iter=1000, \n",
    "    learning_rate='auto', \n",
    "    init='pca', \n",
    "    random_state=42\n",
    ")\n",
    "\n",
    "tsne_results_tfidf_uni = tsne_tfidf_uni.fit_transform(tfidf_svd_uni_results)\n",
    "\n",
    "tsne_tfidf_df_uni = pd.DataFrame(data=tsne_results_tfidf_uni, columns=['tsne-2d-one', 'tsne-2d-two'])\n",
    "\n",
    "plt.figure(figsize=(12, 8))\n",
    "sns.scatterplot(\n",
    "    x=\"tsne-2d-one\", y=\"tsne-2d-two\",\n",
    "    data=tsne_tfidf_df_uni,\n",
    "    alpha=0.5,\n",
    "    s=30\n",
    ")\n",
    "plt.title(f't-SNE визуализация TF-IDF с униграммами (после TruncatedSVD до {n_svd_components} компонент)')\n",
    "plt.xlabel('t-SNE Компонента 1')\n",
    "plt.ylabel('t-SNE Компонента 2')\n",
    "plt.grid(True)\n",
    "plt.show()"
   ]
  },
  {
   "cell_type": "code",
   "execution_count": null,
   "id": "5c21f264-c7bd-47aa-b47c-5365ab713d25",
   "metadata": {},
   "outputs": [],
   "source": [
    "# --- Построение карты плотности с помощью KDE ---\n",
    "plt.figure(figsize=(8, 7))\n",
    "\n",
    "sns.kdeplot(\n",
    "    x=tsne_results_tfidf_uni[:, 0], \n",
    "    y=tsne_results_tfidf_uni[:, 1], \n",
    "    fill=True, \n",
    "    cmap=\"viridis\", \n",
    "    thresh=0.05, \n",
    "    n_levels=100   \n",
    ")\n",
    "plt.title(f'Карта плотности (KDE) t-SNE для TF-IDF (SVD до {n_svd_components} комп.)')\n",
    "plt.xlabel('t-SNE Компонента 1')\n",
    "plt.ylabel('t-SNE Компонента 2')\n",
    "plt.grid(True)\n",
    "plt.axis('equal') \n",
    "plt.show()"
   ]
  },
  {
   "cell_type": "markdown",
   "id": "616ec367-533f-43ea-8b1b-5c42de58d5ed",
   "metadata": {},
   "source": [
    "#### t-SNE SBERT (paraphrase-multilingual-MiniLM-L12-v2) (Первый график):\n",
    " Одно большое, довольно плотное центральное облако с небольшими, более разреженныминаблюдениями\" по краям. Явных, хорошо очерченных отдельных кластеров не видно. Структура есть, но она не сильно выражена в виде отдельных групастеров."
   ]
  },
  {
   "cell_type": "markdown",
   "id": "e450efb8-a1a9-4d52-b5cf-57ba0d21984f",
   "metadata": {},
   "source": [
    "#### t-SNE SBERT (paraphrase-multilingual-mpnet-base-v2) (Второй график):\n",
    "Визуально этот график очень похож на график от MiniLM. Та же самая общая структура: большое центральное облако и небольшие \"выбросы\" или мелкие скопления по периферии. Кажется, что mpnet-base-v2 (более чем в 2 раза больше параметров!) не дал кардинально иной картины разделения на кластеры по сравнению с MiniLM на этой визуализации. Это может означать, что либо обе модели улавливают схожую семантическую структуру, либо сама природа наших данных такова, что четкого семантического разделения на множество изолированных групп нет"
   ]
  },
  {
   "cell_type": "markdown",
   "id": "0bd3e4bf-a306-4430-b59d-14f785d2c342",
   "metadata": {},
   "source": [
    "#### t-SNE TF-IDF с униграммами и биграммами (после TruncatedSVD до 100 компонент) (Третий график):\n",
    "Здесь картина немного другая. Облако точек выглядит более \"рыхлым\" по сравнению с SBERT-графиками. Кажется, что есть больше мелких, но чуть более очерченных \"сгустков\". Центральная часть все еще довольно плотная, но периферия выглядит более структурированной, с большим количеством небольших \"полуостровов\". \n"
   ]
  },
  {
   "cell_type": "markdown",
   "id": "63921481-5890-4c5b-879d-1f88cda851ed",
   "metadata": {},
   "source": [
    "\n",
    "#### t-SNE TF-IDF с униграммами  (после TruncatedSVD до 100 компонент) (Четвертый график):\n",
    "Этот график, пожалуй, выглядит наиболее интересным с точки зрения потенциальной кластеризации из всех четырех. Он тоже имеет центральное ядро, но вокруг него гораздо больше явно выраженных, отдельных небольших скоплений точек. Эти \"островки\" выглядят более изолированными друг от друга, чем на предыдущих графиках. Кажется, что использование только униграмм после хорошей предобработки и фильтрации TF-IDF (min_df, max_df) помогло выделить более четкие тематические группы. Биграммы, возможно, вносили некоторый шум или делали связи между вакансиями слишком специфичными, мешая образованию более крупных и четких кластеров."
   ]
  },
  {
   "cell_type": "markdown",
   "id": "96ce8342-eddd-47bb-b116-2af44dbed9bb",
   "metadata": {},
   "source": [
    "#### Почему не использовали TSVD для матриц SBERT? \n",
    "Для TF-IDF это необходимый технический и практический шаг для того, чтобы сделать высокоразмерные и разреженные TF-IDF данные пригодными для дальнейшей обработки. SBERT эмбеддинги уже являются результатом сложного нелинейного преобразования и снижения размерности. Модели SBERT обучаются так, чтобы их выходные векторы (384 или 768 измерений) уже содержали богатую семантическую информацию в относительно компактном виде. Предполагается, что эти измерения уже \"оптимизированы\" для задач семантической схожести.Применяя PCA или SVD к нелинейно полученным SBERT эмбеддингам, мы можем потерять часть этой сложной семантической информации. PCA находит направления максимальной линейной дисперсии, что не всегда совпадает с направлениями наилучшего семантического разделения."
   ]
  },
  {
   "cell_type": "markdown",
   "id": "ac66ddd3-36bb-4f00-8877-3be27942355a",
   "metadata": {},
   "source": [
    "## Кластеризация. Model-selection"
   ]
  },
  {
   "cell_type": "markdown",
   "id": "eac6616c-ecbc-41b4-9076-75a1d90a525b",
   "metadata": {},
   "source": [
    "### K-means"
   ]
  },
  {
   "cell_type": "markdown",
   "id": "4ed23e7c-ae75-401f-97d8-486114ba1ff7",
   "metadata": {},
   "source": [
    "Алгоритм разбивает данные на K кластеров, минимизируя внутрикластерное расстояние. Он инициализирует K центров кластеров, а затем итеративно обновляет их, пока не достигнет сходимости.\n",
    "Мы не ожидаем от алгоритма высокой точности кластеризации, так как существуют предпосылки для этого: размерность нашего пространства не так велика, как была в самом начале - 8000+ признаков, однако 100 признаков - уже достаточно много. К тому же, при визуализации мы наблюдали предположительную форму кластеров - она явно отличалась от простых \"шаров\", с которыми хорошо справляется K-Means"
   ]
  },
  {
   "cell_type": "markdown",
   "id": "9e2d7bef-3763-47ec-a5a0-fe0d1df52a57",
   "metadata": {},
   "source": [
    "##### Начнем с подбора оптимального количества кластеров\n",
    "1. Используем метод локтя:  Смотрим на график зависимости суммы квадратов расстояний от точек до центров их кластеров (WCSS - Within-Cluster Sum of Squares, атрибут inertia_ у модели KMeans) от числа кластеров K. Ищем \"изгиб\" (локоть) на графике.\n",
    "2. Используем силуэтный коэффициент: Измеряет, насколько хорошо объект соотносится со своим кластером по сравнению с другими кластерами. Значения от -1 до 1. Чем ближе к 1, тем лучше.\n",
    "3. Используем индекс Дэвиса-Боулдинга.Этот индекс означает среднее “сходство” между кластерами, где сходство - это мера, сравнивающая расстояние между кластерами с размером самих кластеров. \n",
    "Ноль - это минимально возможный балл. Значения ближе к нулю указывают на лучшее разделени\n",
    "4. Используем индекс Калинского-Харабаша. Ииндекс Калински-Харабаша , также известный как критерий коэффициента дисперсии, где более высокий показатель индекса Калински-Харабаского относится к модели с более четко определенными кластерами. \n",
    "Индекс представляет собой отношение суммы дисперсии между кластерами и дисперсии внутри кластера для всех кластеров (где дисперсия определяется как сумма квадратов расстояни.й)е."
   ]
  },
  {
   "cell_type": "code",
   "execution_count": null,
   "id": "c7421451-41b0-48e4-a2a0-bca169077d7d",
   "metadata": {},
   "outputs": [],
   "source": [
    "data_for_kmeans = tfidf_svd_uni_results \n",
    "\n",
    "k_range = range(2, 31) \n",
    "\n",
    "wcss_scores = []\n",
    "silhouette_scores_kmeans = []\n",
    "calinski_harabasz_scores_kmeans = []\n",
    "davies_bouldin_scores_kmeans = []\n",
    "\n",
    "for k_val in k_range:\n",
    "    kmeans = KMeans(n_clusters=k_val, \n",
    "                    init='k-means++', \n",
    "                    n_init='auto',    \n",
    "                    random_state=42)\n",
    "    \n",
    "    cluster_labels_kmeans = kmeans.fit_predict(data_for_kmeans)\n",
    "    wcss_scores.append(kmeans.inertia_)\n",
    "    \n",
    "    if len(np.unique(cluster_labels_kmeans)) > 1:\n",
    "        score_sil = silhouette_score(data_for_kmeans, cluster_labels_kmeans)\n",
    "        score_ch = calinski_harabasz_score(data_for_kmeans, cluster_labels_kmeans)\n",
    "        score_db = davies_bouldin_score(data_for_kmeans, cluster_labels_kmeans)\n",
    "    else:\n",
    "        score_sil = -1\n",
    "        score_ch = 0\n",
    "        score_db = np.inf \n",
    "        \n",
    "    silhouette_scores_kmeans.append(score_sil)\n",
    "    calinski_harabasz_scores_kmeans.append(score_ch)\n",
    "    davies_bouldin_scores_kmeans.append(score_db)\n",
    "\n",
    "    print(f\"K={k_val}, WCSS={wcss_scores[-1]:.2f}, Sil={score_sil:.4f}, CH={score_ch:.2f}, DB={score_db:.4f}\", end='\\r')\n",
    "\n",
    "fig, axes = plt.subplots(2, 2, figsize=(15, 10)) \n",
    "axes = axes.flatten() \n",
    "\n",
    "axes[0].plot(k_range, wcss_scores, marker='o', linestyle='--')\n",
    "axes[0].set_title('Метод локтя (WCSS) для K-Means')\n",
    "axes[0].set_xlabel('Количество кластеров (K)')\n",
    "axes[0].set_ylabel('WCSS (inertia)')\n",
    "axes[0].set_xticks(list(k_range))\n",
    "axes[0].grid(True)\n",
    "\n",
    "axes[1].plot(k_range, silhouette_scores_kmeans, marker='o', linestyle='--')\n",
    "axes[1].set_title('Силуэтный коэффициент для K-Means')\n",
    "axes[1].set_xlabel('Количество кластеров (K)')\n",
    "axes[1].set_ylabel('Silhouette Score (Higher is better)')\n",
    "axes[1].set_xticks(list(k_range))\n",
    "axes[1].grid(True)\n",
    "\n",
    "axes[2].plot(k_range, calinski_harabasz_scores_kmeans, marker='o', linestyle='--')\n",
    "axes[2].set_title('Индекс Калински-Харабас для K-Means')\n",
    "axes[2].set_xlabel('Количество кластеров (K)')\n",
    "axes[2].set_ylabel('Calinski-Harabasz Score (Higher is better)')\n",
    "axes[2].set_xticks(list(k_range))\n",
    "axes[2].grid(True)\n",
    "\n",
    "axes[3].plot(k_range, davies_bouldin_scores_kmeans, marker='o', linestyle='--')\n",
    "axes[3].set_title('Индекс Дэвиса-Болдина для K-Means')\n",
    "axes[3].set_xlabel('Количество кластеров (K)')\n",
    "axes[3].set_ylabel('Davies-Bouldin Score (Lower is better)')\n",
    "axes[3].set_xticks(list(k_range))\n",
    "axes[3].grid(True)\n",
    "\n",
    "plt.tight_layout()\n",
    "plt.show()"
   ]
  },
  {
   "cell_type": "markdown",
   "id": "4d40a9cd-6af8-4b71-a866-6c2d6d3eee00",
   "metadata": {},
   "source": [
    " График WCSS демонстрирует плавное снижение без ярко выраженного \"локтя\", что затрудняет однозначный выбор K по этому методу. Индекс Калински-Харабас достигает своего пика при K=3 и K=4, после чего начинает монотонно убывать, указывая на то, что дальнейшее увеличение числа кластеров не приводит к улучшению соотношения межкластерной и внутрикластерной дисперсии. Аналогично, индекс Дэвиса-Болдина показывает наилучшее (минимальное) значение при K=3, после чего его значения начинают расти, свидетельствуя об ухудшении качества разделения с увеличением K. Силуэтный коэффициент также демонстрирует максимальное значение (около 0.11) при K=3, что является наивысшим показателем среди всех рассмотренных K, хотя и остается на относительно невысоком уровне в абсолютном выражении. Совокупность этих метрик, особенно сильное согласование между пиком индекса Калински-Харабас, минимумом индекса Дэвиса-Болдина и максимумом силуэтного коэффициента, убедительно указывает на K=3 как на наиболее статистически обоснованное количество кластеров для нашего набора данных при использовании K-Means."
   ]
  },
  {
   "cell_type": "code",
   "execution_count": null,
   "id": "a3e4bb38-abab-4190-b461-b0cb8c3fccf4",
   "metadata": {},
   "outputs": [],
   "source": [
    "data_test = data.copy()"
   ]
  },
  {
   "cell_type": "code",
   "execution_count": null,
   "id": "bf99669e-8b23-40c2-9e84-f9fea9bbddf0",
   "metadata": {},
   "outputs": [],
   "source": [
    "K_chosen = 3\n",
    "kmeans_model = KMeans(n_clusters=K_chosen, \n",
    "                      init='k-means++', \n",
    "                      n_init='auto', \n",
    "                      random_state=42)\n",
    "cluster_labels = kmeans_model.fit_predict(tfidf_svd_uni_results)\n",
    "\n",
    "data_test[f'cluster_kmeans_k{K_chosen}'] = cluster_labels\n",
    "data_test['tsne-2d-one'] = tsne_results_tfidf_uni[:, 0]\n",
    "data_test['tsne-2d-two'] = tsne_results_tfidf_uni[:, 1]\n",
    "\n",
    "plt.figure(figsize=(20, 8)) \n",
    "\n",
    "n_cols = 4\n",
    "n_rows = (K_chosen + n_cols - 1) // n_cols \n",
    "\n",
    "palette = sns.color_palette(\"hsv\", K_chosen) \n",
    "\n",
    "for i in range(K_chosen):\n",
    "    plt.subplot(n_rows, n_cols, i + 1)\n",
    "    \n",
    "    plt.scatter(data_test['tsne-2d-one'], data_test['tsne-2d-two'], s=10, color='lightgrey', alpha=0.3)\n",
    "    \n",
    "    current_cluster_data = data_test[data_test[f'cluster_kmeans_k{K_chosen}'] == i]\n",
    "    plt.scatter(current_cluster_data['tsne-2d-one'], current_cluster_data['tsne-2d-two'], \n",
    "                s=20, color=palette[i], label=f'Кластер {i}', alpha=0.7)\n",
    "    \n",
    "    plt.title(f'Кластер {i} (N={len(current_cluster_data)})')\n",
    "    plt.xlabel('t-SNE 1')\n",
    "    plt.ylabel('t-SNE 2')\n",
    "    plt.xticks([]) \n",
    "    plt.yticks([])\n",
    "    # plt.legend() \n",
    "\n",
    "plt.tight_layout()\n",
    "plt.suptitle(f't-SNE визуализация K-Means кластеров (K={K_chosen})', fontsize=16, y=1.02)\n",
    "plt.show()"
   ]
  },
  {
   "cell_type": "markdown",
   "id": "0c4f60ab-155c-4a82-a51d-08d84cf9e73a",
   "metadata": {},
   "source": [
    "При визуализации результатов кластеризации K-Means с K=3 на t-SNE проекции становится очевидной существенная проблема данного разбиения. Мы наблюдаем крайне несбалансированное распределение данных по кластерам: Кластер 0 содержит подавляющее большинство наблюдений (N=18101), в то время как Кластер 1 (N=2322) и особенно Кластер 2 (N=353) являются значительно меньшими. Такое сильное различие в размерах кластеров, где один кластер поглощает почти 87% всех данных, делает полученную кластеризацию малоинформативной для целей выявления разнообразных групп специализаций. По сути, K-Means выделил одну огромную \"общую\" группу и две небольшие, более специфичные группы, что не позволяет нам глубоко проанализировать структуру рынка вакансий. Низкие значения силуэтного коэффициента также подтверждают, что даже при K=3 разделение не является идеальным, и кластеры могут быть не очень четко очерчены или компактны."
   ]
  },
  {
   "cell_type": "markdown",
   "id": "a218d991-c487-4e9d-a6c9-430cc3849d54",
   "metadata": {},
   "source": [
    "Учитывая выявленные ограничения алгоритма K-Means для наших данных, а именно его склонность к формированию кластеров близких размеров (что не всегда соответствует реальности) и чувствительность к выбросам, которые могли повлиять на формирование такого большого основного кластера, мы считаем целесообразным исследовать альтернативные методы кластеризации. В частности, алгоритм DBSCAN, основанный на плотности, представляется перспективным, поскольку он способен находить кластеры произвольной формы, не требует предварительного задания их количества и, что особенно важно в нашем случае, может эффективно выделять шумовые точки (выбросы), которые могли исказить результаты K-Means."
   ]
  },
  {
   "cell_type": "markdown",
   "id": "790deaa5-b729-45e1-a09a-96533ff310aa",
   "metadata": {},
   "source": [
    "### DBSCAN"
   ]
  },
  {
   "attachments": {},
   "cell_type": "markdown",
   "id": "68c5b18f-d60e-4aff-984f-a146a7687cab",
   "metadata": {},
   "source": [
    "Этот алгоритм кластеризует данные на основе плотности точек. Объекты группируются в кластеры, если они находятся близко друг к другу, и выделяются выбросы.\n",
    "Под плотностью точек в контексте кластеризации методом DBSCAN понимается количество точек, находящихся в заданной области пространства (в пределах радиуса ε) относительно заданной точки.\n",
    "\n",
    "Данный алгоритм не требует задания количества кластеров; хорошо работает с кластерами произвольной формы; устойчив к шуму.\n",
    "\n",
    "\n",
    "DBSCAN – это алгоритм, основанный на понятии плотности. Он группирует вместе точки, которые находятся в \"плотных\" регионах пространства, и отделяет их от более разреженных областей, которые он считает шумом.\n",
    "eps (эпсилон): Это радиус окрестности вокруг каждой точки. DBSCAN смотрит, сколько других точек попадает в эту окрестность.\n",
    "min_samples: Это минимальное количество точек (включая саму точку), которое должно оказаться в eps-окрестности точки, чтобы эта точка считалась ядром кластера (core point).\n",
    "\n",
    "Если eps слишком маленький, то оОчень немногие точки будут иметь достаточно соседей в своей eps-окрестности \n",
    "Большинство точек будет помечено как шум (-\n",
    "Если eps слишком большой, то оОкрестности разных плотных областей начнут \"сливаться\" \n",
    "Разные, по сути, кластеры могут быть объединены в один большой класт\n",
    "\n",
    "Поэтому нам нужен \"золотой середины\" eps, который позволит выделить естественно существующие плотные области, не смешивая их и не отбрасывая слишком много точек в шум.р.)."
   ]
  },
  {
   "cell_type": "markdown",
   "id": "579b7c67-27c3-476d-b5b4-21ef5927565d",
   "metadata": {},
   "source": [
    "Метод k-distance graph (график расстояний до k-го соседа) - это один из наиболее распространенных эвристических методов для подбора eps.\n",
    "1. Сначала мы выбираем значение k. Это значение обычно связывают с параметром min_samples DBSCAN. Распространенная рекомендация: k = min_samples - 1.\n",
    "Если точка является ядром кластера, у нее должно быть как минимум min_samples точек в eps-окрестности (включая саму себя). Значит, у нее должно быть как минимум min_samples - 1 других соседей. Мы ищем такое расстояние eps, чтобы как можно больше \"истинных\" ядерных точек получили своих min_samples - 1 соседей. В нашем случае, мы зафиксировали min_samples = 20, поэтому мы смотрим на расстояние до k = 19-го ближайшего соседа.\n",
    "2. Расчет расстояний: Для каждой точки в нашем наборе данных мы находим расстояние до ее k-го ближайшего соседа. Например, для точки A мы находим 19 ее ближайших соседей и смотрим, каково расстояние до самого дальнего из этих 19 соседей. Это и будет ее k-distance.\n",
    "3. Построение графика: все эти k-расстояния (по одному для каждой точки данных) сортируются по возрастанию.\n",
    "Ось Y: Отсортированные k-расстояния.\n",
    "Ось X: Индексы точек (от 0 до N-1, где N – общее число точек), просто для того, чтобы расположить отсортированные расстояния по порядку."
   ]
  },
  {
   "cell_type": "code",
   "execution_count": null,
   "id": "bbd7b938-e6f6-46cb-80d1-5ffe6b640e4c",
   "metadata": {},
   "outputs": [],
   "source": [
    "min_samples_dbscan = 20 # Увеличим, чтобы получить более стабильные кластеры\n",
    "\n",
    "k_neighbor = min_samples_dbscan - 1 \n",
    "if k_neighbor <=0 : k_neighbor = 1 # Защита, если min_samples_dbscan = 1\n",
    "\n",
    "print(f\"Расчет расстояний до {k_neighbor}-го соседа для {tfidf_svd_uni_results.shape[0]} точек...\")\n",
    "neighbors = NearestNeighbors(n_neighbors=k_neighbor + 1) # +1 т.к. первая точка сама себе сосед\n",
    "neighbors_fit = neighbors.fit(tfidf_svd_uni_results)\n",
    "distances, indices = neighbors_fit.kneighbors(tfidf_svd_uni_results)\n",
    "\n",
    "k_distances = np.sort(distances[:, k_neighbor], axis=0)\n",
    "\n",
    "plt.figure(figsize=(10,6))\n",
    "plt.plot(k_distances)\n",
    "plt.title(f'K-distance Graph (k={k_neighbor}) для подбора eps')\n",
    "plt.xlabel(\"Точки, отсортированные по расстоянию до k-го соседа\")\n",
    "plt.ylabel(f\"Расстояние до {k_neighbor}-го соседа (eps)\")\n",
    "plt.grid(True)\n",
    "plt.show()"
   ]
  },
  {
   "cell_type": "code",
   "execution_count": null,
   "id": "65876b53-348f-4a25-a750-87d07d419b3b",
   "metadata": {},
   "outputs": [],
   "source": [
    "data_dbscan = data.copy()"
   ]
  },
  {
   "cell_type": "code",
   "execution_count": null,
   "id": "49478b54-c20b-4f0f-8747-786cc065ae05",
   "metadata": {},
   "outputs": [],
   "source": [
    "eps_chosen = 0.35\n",
    "min_samples_dbscan = 20 \n",
    "\n",
    "dbscan = DBSCAN(eps=eps_chosen, min_samples=min_samples_dbscan, metric='euclidean')\n",
    "cluster_labels_dbscan = dbscan.fit_predict(tfidf_svd_uni_results) \n",
    "\n",
    "n_clusters_ = len(set(cluster_labels_dbscan)) - (1 if -1 in cluster_labels_dbscan else 0)\n",
    "n_noise_ = list(cluster_labels_dbscan).count(-1)\n",
    "total_points = len(cluster_labels_dbscan)\n",
    "\n",
    "if total_points > 0: # Избегаем деления на ноль\n",
    "    print(f'Количество шумовых точек: {n_noise_} ({n_noise_ / total_points * 100:.2f}%)')\n",
    "else:\n",
    "    print('Нет точек для анализа.')\n",
    "\n",
    "\n",
    "data_dbscan['cluster_dbscan'] = cluster_labels_dbscan \n",
    "print(\"\\nРазмеры кластеров (включая шум -1):\")\n",
    "print(data_dbscan['cluster_dbscan'].value_counts().sort_index())\n",
    "\n",
    "plt.figure(figsize=(14, 10)) \n",
    "unique_labels = sorted(list(set(cluster_labels_dbscan)))\n",
    "\n",
    "palette = sns.color_palette(\"hsv\", len(unique_labels))\n",
    "\n",
    "sns.scatterplot(\n",
    "    x=tsne_results_tfidf_uni[:, 0], y=tsne_results_tfidf_uni[:, 1],\n",
    "    hue=data_dbscan['cluster_dbscan'],\n",
    "    hue_order=unique_labels, \n",
    "    palette=palette, \n",
    "    legend=\"full\",\n",
    "    alpha=0.7,\n",
    "    s=30\n",
    ")\n",
    "plt.title(f't-SNE визуализация DBSCAN кластеров (eps={eps_chosen}, min_samples={min_samples_dbscan})')\n",
    "plt.xlabel('t-SNE Компонента 1')\n",
    "plt.ylabel('t-SNE Компонента 2')\n",
    "plt.grid(True)\n",
    "plt.legend(title='Кластер', bbox_to_anchor=(1.05, 1), loc='upper left')\n",
    "plt.tight_layout(rect=[0, 0, 0.85, 1])\n",
    "plt.show()"
   ]
  },
  {
   "cell_type": "markdown",
   "id": "dd5784fa-f138-4292-a687-0ba6c60bd96e",
   "metadata": {},
   "source": [
    "#### Вопреки ожиданиям, алгоритм DBSCAN справился с задачей сильно хуже. Несмотря на вдумчивый подбор основных параметров, алгоритм выделил больше 6 тысяч вакансий как шум, а в оставшихся данных выделил кластер, включающий себя 70%! наблюдений, много незначительных кластеров. \n",
    "Текущий результат кластеризации с DBSCAN не выглядит оптимальным для нашей задачи – мы получили слишком много шума и один доминирующий кластер, что мало что говорит о разнообразии специализаций.\n",
    "Было проведено множество эксперитментов для нахождения оптимальных параметров для кластеризации, алгоритм либо объединяет все данные в один кластер, либо большую часть наблюдений выделяет как шум. Предпосылки этого были видно еще при нахождении оптимального параметра eps. "
   ]
  },
  {
   "cell_type": "markdown",
   "id": "5cde137e-c19e-47eb-9551-bee27f13c2d1",
   "metadata": {},
   "source": [
    "### Gaussian Mixture Models"
   ]
  },
  {
   "cell_type": "markdown",
   "id": "e99a53b3-21f3-4e24-bd8b-88ddd8c8ff5b",
   "metadata": {},
   "source": [
    "Алгоритм Gaussian Mixture Models (GMM) представляется перспективным для кластеризации наших данных о вакансиях по нескольким причинам. Во-первых, в отличие от K-Means, который предполагает, что кластеры имеют сферическую форму и одинаковый размер, GMM позволяет моделировать кластеры более сложной, эллипсоидной формы и с разной дисперсией, что лучше соответствует природе текстовых данных, где тематические группы могут иметь разную \"ширину\" и \"вытянутость\" в пространстве признаков. Во-вторых, GMM является вероятностной моделью, то есть он не просто жестко присваивает каждую точку одному кластеру, а оценивает вероятность ее принадлежности к каждой из компонент смеси, что может быть полезно для анализа \"пограничных\" или многозначных вакансий. Учитывая, что наша KDE карта плотности для TF-IDF данных показала наличие нескольких, возможно, перекрывающихся, но различимых пиков плотности, GMM, способный моделировать такие суперпозиции распределений, имеет хороший шанс успешно выделить эти подлежащие структуры. "
   ]
  },
  {
   "cell_type": "code",
   "execution_count": null,
   "id": "15efeba0-2ae9-4111-90e9-5cb431be76dc",
   "metadata": {},
   "outputs": [],
   "source": [
    "data_for_gmm = tfidf_svd_uni_results # Убедись, что эта переменная содержит нужные данные\n",
    "\n",
    "k_range_gmm = range(2, 26) \n",
    "\n",
    "silhouette_scores_gmm = []\n",
    "calinski_harabasz_scores_gmm = []\n",
    "davies_bouldin_scores_gmm = []\n",
    "\n",
    "for n_components_val in k_range_gmm:\n",
    "    gmm = GaussianMixture(\n",
    "        n_components=n_components_val,\n",
    "        covariance_type='full', \n",
    "        random_state=42,\n",
    "        n_init=5 \n",
    "    )\n",
    "\n",
    "    cluster_labels_gmm = gmm.fit_predict(data_for_gmm) \n",
    "\n",
    "    if len(np.unique(cluster_labels_gmm)) > 1: \n",
    "        score_sil = silhouette_score(data_for_gmm, cluster_labels_gmm)\n",
    "        score_ch = calinski_harabasz_score(data_for_gmm, cluster_labels_gmm)\n",
    "        score_db = davies_bouldin_score(data_for_gmm, cluster_labels_gmm)\n",
    "    else:\n",
    "        score_sil = -1 \n",
    "        score_ch = 0   \n",
    "        score_db = np.inf \n",
    "        \n",
    "    silhouette_scores_gmm.append(score_sil)\n",
    "    calinski_harabasz_scores_gmm.append(score_ch)\n",
    "    davies_bouldin_scores_gmm.append(score_db)\n",
    "\n",
    "    print(f\"N_components={n_components_val}, Silhouette={score_sil:.4f}, CH_Index={score_ch:.2f}, DB_Index={score_db:.4f}\", end='\\r')\n",
    "\n",
    "fig, axes = plt.subplots(3, 1, figsize=(10, 15)) # 3 графика один под другим\n",
    "\n",
    "axes[0].plot(k_range_gmm, silhouette_scores_gmm, marker='o', linestyle='-')\n",
    "axes[0].set_title('Силуэтный коэффициент для GMM')\n",
    "axes[0].set_xlabel('Количество компонент')\n",
    "axes[0].set_ylabel('Silhouette Score (Higher is better)')\n",
    "axes[0].set_xticks(list(k_range_gmm))\n",
    "axes[0].grid(True)\n",
    "\n",
    "axes[1].plot(k_range_gmm, calinski_harabasz_scores_gmm, marker='o', linestyle='-')\n",
    "axes[1].set_title('Индекс Калински-Харабас для GMM')\n",
    "axes[1].set_xlabel('Количество компонент')\n",
    "axes[1].set_ylabel('Calinski-Harabasz Score (Higher is better)')\n",
    "axes[1].set_xticks(list(k_range_gmm))\n",
    "axes[1].grid(True)\n",
    "\n",
    "axes[2].plot(k_range_gmm, davies_bouldin_scores_gmm, marker='o', linestyle='-')\n",
    "axes[2].set_title('Индекс Дэвиса-Болдина для GMM')\n",
    "axes[2].set_xlabel('Количество компонент')\n",
    "axes[2].set_ylabel('Davies-Bouldin Score (Lower is better)')\n",
    "axes[2].set_xticks(list(k_range_gmm))\n",
    "axes[2].grid(True)\n",
    "\n",
    "plt.tight_layout()\n",
    "plt.show()"
   ]
  },
  {
   "attachments": {
    "59344ab4-0e3a-4d16-b4b6-bcbd39c876f5.png": {
     "image/png": "[encoded data removed]"
    }
   },
   "cell_type": "markdown",
   "id": "d2874a8e-b6cb-4f03-bf8e-b780d0d172ee",
   "metadata": {},
   "source": [
    "![download.png](attachment:59344ab4-0e3a-4d16-b4b6-bcbd39c876f5.png)"
   ]
  },
  {
   "cell_type": "markdown",
   "id": "1aec2a34-e74a-4b88-a743-1ab3bad11c54",
   "metadata": {},
   "source": [
    "Оптимальное число кластеров согласно наблюдаемым метрикам - 4. Именно при таком количестве кластеров Индекс Дэвиса-Булдина достигает локального минимума (новый минимум наблдается толко при 16 кластерах), индекс Калински-Харабаша же достигает второго по величине значения (после метрики для 2х кластеров)."
   ]
  },
  {
   "cell_type": "code",
   "execution_count": null,
   "id": "4c152387-bf6c-4638-9fe5-56884d9615ab",
   "metadata": {},
   "outputs": [],
   "source": [
    "data_gmm = data.copy()"
   ]
  },
  {
   "cell_type": "code",
   "execution_count": null,
   "id": "4568f07f-f02b-4b28-a239-7a815827fa69",
   "metadata": {},
   "outputs": [],
   "source": [
    "optimal_n_components_gmm = 4\n",
    "\n",
    "final_gmm_model = GaussianMixture(\n",
    "    n_components=optimal_n_components_gmm,\n",
    "    covariance_type='full', \n",
    "    random_state=42,\n",
    "    n_init=10 \n",
    ")\n",
    "\n",
    "final_gmm_model.fit(tfidf_svd_uni_results)\n",
    "cluster_labels_gmm_final = final_gmm_model.predict(tfidf_svd_uni_results)\n",
    "cluster_probabilities_gmm_final = final_gmm_model.predict_proba(tfidf_svd_uni_results) \n",
    "\n",
    "data_gmm['cluster_gmm'] = cluster_labels_gmm_final\n",
    "data_gmm['cluster_gmm_probability'] = np.max(cluster_probabilities_gmm_final, axis=1)\n"
   ]
  },
  {
   "cell_type": "code",
   "execution_count": null,
   "id": "f291bf0a-ff8e-4e5f-9081-70f9364e49a0",
   "metadata": {},
   "outputs": [],
   "source": [
    "tsne_df_for_plotting = pd.DataFrame(data=tsne_results_tfidf_uni, columns=['tsne_x', 'tsne_y'])\n",
    "tsne_df_for_plotting['cluster_gmm'] = data_gmm['cluster_gmm'].values \n",
    "\n",
    "optimal_n_components_gmm = tsne_df_for_plotting['cluster_gmm'].nunique()\n",
    "print(f\"\\nВизуализация каждого из {optimal_n_components_gmm} GMM кластеров на t-SNE...\")\n",
    "\n",
    "n_cols = 4\n",
    "n_rows = (optimal_n_components_gmm + n_cols - 1) // n_cols \n",
    "\n",
    "fig, axes = plt.subplots(n_rows, n_cols, figsize=(5 * n_cols, 4 * n_rows)) \n",
    "axes = axes.flatten()\n",
    "\n",
    "active_cluster_color = 'deepskyblue' \n",
    "other_points_color = 'lightgray'\n",
    "\n",
    "for i in range(optimal_n_components_gmm):\n",
    "    ax = axes[i]\n",
    "    cluster_label = i #\n",
    "    \n",
    "    is_current_cluster = (tsne_df_for_plotting['cluster_gmm'] == cluster_label)\n",
    "    current_cluster_data = tsne_df_for_plotting[is_current_cluster]\n",
    "    other_clusters_data = tsne_df_for_plotting[~is_current_cluster]\n",
    "    \n",
    "    ax.scatter(other_clusters_data['tsne_x'], other_clusters_data['tsne_y'], \n",
    "               color=other_points_color, s=20, alpha=0.3)\n",
    "    \n",
    "    ax.scatter(current_cluster_data['tsne_x'], current_cluster_data['tsne_y'], \n",
    "               color=active_cluster_color, s=30, alpha=0.7, label=f'Кластер {cluster_label}')\n",
    "    \n",
    "    cluster_size = len(current_cluster_data)\n",
    "    ax.set_title(f'Кластер {cluster_label} (N={cluster_size})')\n",
    "    ax.set_xlabel('t-SNE 1')\n",
    "    ax.set_ylabel('t-SNE 2')\n",
    "    ax.tick_params(axis='both', which='both', bottom=False, top=False, \n",
    "                   left=False, right=False, labelbottom=False, labelleft=False) \n",
    "\n",
    "for j in range(optimal_n_components_gmm, n_rows * n_cols):\n",
    "    fig.delaxes(axes[j])\n",
    "\n",
    "plt.tight_layout()\n",
    "plt.show()"
   ]
  },
  {
   "cell_type": "markdown",
   "id": "2be70623-f063-4c61-9e86-f086862089c5",
   "metadata": {},
   "source": [
    "#### ***GMM*** смог выделить крупные, сопоставимые по размеру группы вакансий, каждая из которых занимает определенную, хоть и частично перекрывающуюся, область в пространстве признаков. В отличие от ***K-Means***, который при K=3 сформировал один доминирующий кластер, ***GMM*** с четырьмя компонентами показывает более сбалансированное распределение данных (N≈5000 для каждого кластера), что дает основания для более детального изучения их семантического содержания и характеристик."
   ]
  },
  {
   "cell_type": "markdown",
   "id": "23b2204c-bfd8-4fad-b6f8-4118cf376eea",
   "metadata": {},
   "source": [
    "## Анализ кластеров"
   ]
  },
  {
   "cell_type": "markdown",
   "id": "dbeb479e-7067-4a76-af7b-936660926127",
   "metadata": {},
   "source": [
    "### Анализ топ-признаков в кластерах"
   ]
  },
  {
   "cell_type": "markdown",
   "id": "96400571-c4b9-4c9d-8083-a1ab724d7456",
   "metadata": {},
   "source": [
    "#### Подход к анализу топ-признаков для кластеров TF-IDF:\n",
    "В наших кластерах наиболее часто встречаются одни и те же униграммы. Эти униграммы не являются уникальными для кластеров, их наличие вызвано спецификой исследования и параметрами TF-IDF векторизатора. Поэтому наиболее частотные униграммы не являются самыми важными, ***важными являются униграммы с наибольшим весом***. Чтобы определить такие униграммы, надо:\n",
    "***Получить центроиды кластеров в пространстве SVD***: У обученной модели GMM есть атрибут means_, который содержит координаты центров кластеров в том пространстве, на котором модель обучалась (т.е. в нашем 100-мерном пространстве после SVD).\n",
    "***Обратное преобразование центроидов*** в исходное TF-IDF пространство: Используя обученный объект TruncatedSVD, мы можем применить метод svd.inverse_transform() к центроидам кластеров. Это даст нам приближенное представление центроидов в исходном многотысячном пространстве TF-IDF признаков.\n",
    "***Анализ этих \"восстановленных\" центроидов***: Каждый такой восстановленный центроид будет вектором, где каждое значение соответствует TF-IDF весу определенной n-граммы.\n",
    "***Вывод топ-N n-грамм для каждого кластера***: Для каждого восстановленного центроида мы можем выбрать N n-грамм, имеющих наибольшие веса. Эти n-граммы и будут теми, которые наиболее сильно \"характеризуют\" данный кластер с точки зрения TF-IDF модели."
   ]
  },
  {
   "cell_type": "code",
   "execution_count": null,
   "id": "1a441a35-21f4-4eab-9205-6cfa587e41a4",
   "metadata": {},
   "outputs": [],
   "source": [
    "centroids_svd_space = final_gmm_model.means_\n",
    "centroids_tfidf_space = svd.inverse_transform(centroids_svd_space)\n",
    "\n",
    "feature_names = tfidf_vectorizer_uni.get_feature_names_out() \n",
    "optimal_n_components = centroids_tfidf_space.shape[0]\n",
    "top_n_features = 15\n",
    "\n",
    "\n",
    "for i in range(optimal_n_components):\n",
    "    print(f\"\\n--- Кластер {i} ---\")\n",
    "    \n",
    "    centroid_features_tfidf = centroids_tfidf_space[i]\n",
    "    top_feature_indices = centroid_features_tfidf.argsort()[::-1][:top_n_features]\n",
    "    \n",
    "    print(f\"Топ-{top_n_features} признаков (n-грамм) с наибольшими TF-IDF весами в центроиде:\")\n",
    "    for idx in top_feature_indices:\n",
    "        print(f\"  - {feature_names[idx]}: {centroid_features_tfidf[idx]:.4f}\")\n",
    "        \n",
    "    cluster_df_temp = data_gmm[data_gmm['cluster_gmm'] == i] \n",
    "    print(\"\\n  Примеры названий вакансий в этом кластере:\")\n",
    "    num_samples_names = min(3, len(cluster_df_temp))\n",
    "    sample_vacancy_names = cluster_df_temp['Vacancy_name'].dropna().sample(num_samples_names).tolist()\n",
    "    for name in sample_vacancy_names:\n",
    "        print(f\"    - {name}\")"
   ]
  },
  {
   "cell_type": "code",
   "execution_count": null,
   "id": "edf68f50-9d83-4ff3-96a8-3e900dbb53c6",
   "metadata": {},
   "outputs": [],
   "source": [
    "centroids_svd_space = final_gmm_model.means_\n",
    "\n",
    "centroids_tfidf_space = svd.inverse_transform(centroids_svd_space)\n",
    "feature_names = tfidf_vectorizer_uni.get_feature_names_out()\n",
    "\n",
    "optimal_n_components = centroids_tfidf_space.shape[0]\n",
    "top_n_features = 15\n",
    "\n",
    "n_cols_plot = 2 \n",
    "n_rows_plot = (optimal_n_components + n_cols_plot - 1) // n_cols_plot\n",
    "fig, axes = plt.subplots(n_rows_plot, n_cols_plot, figsize=(7 * n_cols_plot, 5 * n_rows_plot))\n",
    "axes = axes.flatten()\n",
    "\n",
    "for i in range(optimal_n_components):\n",
    "    ax = axes[i]\n",
    "\n",
    "    centroid_features_tfidf = centroids_tfidf_space[i]\n",
    "    top_feature_indices = centroid_features_tfidf.argsort()[::-1][:top_n_features]\n",
    "    \n",
    "    top_features_names = [feature_names[idx] for idx in top_feature_indices]\n",
    "    top_features_weights = centroid_features_tfidf[top_feature_indices]\n",
    "    \n",
    "    sns.barplot(x=top_features_weights, y=top_features_names, ax=ax, palette=\"viridis\", orient='h')\n",
    "    ax.set_title(f'Кластер {i}: Топ-{top_n_features} TF-IDF Признаков')\n",
    "    ax.set_xlabel('Вес TF-IDF в центроиде')\n",
    "    ax.set_ylabel('Признак (n-грамма)')\n",
    "    # ax.invert_yaxis() # Чтобы самый важный был сверху\n",
    "\n",
    "for j in range(optimal_n_components, n_rows_plot * n_cols_plot):\n",
    "    fig.delaxes(axes[j])\n",
    "\n",
    "plt.tight_layout()\n",
    "plt.show()"
   ]
  },
  {
   "cell_type": "markdown",
   "id": "0ec65f90-0e83-4798-a014-569cf27ee547",
   "metadata": {},
   "source": [
    "### Распределение вакансий/специальностей + топ работодателей"
   ]
  },
  {
   "cell_type": "code",
   "execution_count": null,
   "id": "77317058-0a16-4486-b82f-2129d5a8e82d",
   "metadata": {},
   "outputs": [],
   "source": [
    "print(data_gmm[data_gmm['cluster_gmm'] == 0].shape)\n",
    "print(data_gmm[data_gmm['cluster_gmm'] == 0].Vacancy_name.value_counts().head(10))\n",
    "data_gmm[data_gmm['cluster_gmm'] == 0].Employer_name.value_counts().head(10)"
   ]
  },
  {
   "cell_type": "code",
   "execution_count": null,
   "id": "760d4b30-166b-4d91-9d1f-dc233bec77d7",
   "metadata": {},
   "outputs": [],
   "source": [
    "print(data_gmm[data_gmm['cluster_gmm'] == 1].shape)\n",
    "print(data_gmm[data_gmm['cluster_gmm'] == 1].Vacancy_name.value_counts().head(10))\n",
    "data_gmm[data_gmm['cluster_gmm'] == 1].Employer_name.value_counts().head(10)"
   ]
  },
  {
   "cell_type": "code",
   "execution_count": null,
   "id": "d5f5d7af-2929-4c34-8b50-abc93d6e7d17",
   "metadata": {},
   "outputs": [],
   "source": [
    "print(data_gmm[data_gmm['cluster_gmm'] == 2].shape)\n",
    "print(data_gmm[data_gmm['cluster_gmm'] == 2].Vacancy_name.value_counts().head(10))\n",
    "data_gmm[data_gmm['cluster_gmm'] == 2].Employer_name.value_counts().head(10)"
   ]
  },
  {
   "cell_type": "code",
   "execution_count": null,
   "id": "53a08236-5202-45d4-81f9-fb267e962a00",
   "metadata": {},
   "outputs": [],
   "source": [
    "print(data_gmm[data_gmm['cluster_gmm'] == 3].shape)\n",
    "print(data_gmm[data_gmm['cluster_gmm'] == 3].Vacancy_name.value_counts().head(10))\n",
    "data_gmm[data_gmm['cluster_gmm'] == 3].Employer_name.value_counts().head(10)"
   ]
  },
  {
   "cell_type": "markdown",
   "id": "fc4ee4ce-2d27-445c-91a4-61cad4027361",
   "metadata": {},
   "source": [
    "### Анализ ключевые навыков в кластере"
   ]
  },
  {
   "cell_type": "code",
   "execution_count": null,
   "id": "415dfc5c-5e62-424a-8a23-78c0d7db069c",
   "metadata": {},
   "outputs": [],
   "source": [
    "def preprocess_key_skills(skill_string):\n",
    "    if pd.isna(skill_string) or not isinstance(skill_string, str) or not skill_string.strip():\n",
    "        return [] \n",
    "\n",
    "    skills_list = [skill.strip().lower() for skill in skill_string.split(',') if skill.strip()]\n",
    "    return skills_list\n",
    "\n",
    "\n",
    "data_gmm['cleaned_key_skills_list'] = data_gmm['key_skills_str'].apply(preprocess_key_skills)"
   ]
  },
  {
   "cell_type": "code",
   "execution_count": null,
   "id": "7af04a86-f036-4e6f-945d-d1f1f95769ab",
   "metadata": {},
   "outputs": [],
   "source": [
    "optimal_n_components_gmm = 4\n",
    "top_n_skills = 20\n",
    "\n",
    "print(f\"\\nАнализ топ-{top_n_skills} навыков для {optimal_n_components_gmm} GMM кластеров:\")\n",
    "for i in range(optimal_n_components_gmm):\n",
    "    print(f\"\\n--- Кластер GMM {i} ---\")\n",
    "    cluster_df = data_gmm[data_gmm['cluster_gmm'] == i]\n",
    "    \n",
    "    cluster_size = len(cluster_df)\n",
    "    print(f\"\\nТоп-{top_n_skills} навыков в кластере (из 'cleaned_key_skills_list'):\")\n",
    "    cluster_key_skills_lists = cluster_df['cleaned_key_skills_list'].tolist()\n",
    "    \n",
    "    all_skills_in_cluster = []\n",
    "    for skills_list_item in cluster_key_skills_lists:\n",
    "        if isinstance(skills_list_item, list):\n",
    "            all_skills_in_cluster.extend(skills_list_item)\n",
    "    \n",
    "    skill_counts = Counter(all_skills_in_cluster)\n",
    "    for skill, count in skill_counts.most_common(top_n_skills):\n",
    "        print(f\"  - {skill}: {count}\")"
   ]
  },
  {
   "cell_type": "code",
   "execution_count": null,
   "id": "3fbd9190-ffde-47cb-955a-1906ddf4c366",
   "metadata": {},
   "outputs": [],
   "source": [
    "optimal_n_components_gmm = 4 \n",
    "top_n_skills_plot = 15\n",
    "\n",
    "n_cols_plot_skills = 2 if optimal_n_components_gmm > 1 else 1 \n",
    "n_rows_plot_skills = (optimal_n_components_gmm + n_cols_plot_skills - 1) // n_cols_plot_skills\n",
    "\n",
    "fig_skills, axes_skills_raw = plt.subplots(n_rows_plot_skills, n_cols_plot_skills, \n",
    "                                           figsize=(7 * n_cols_plot_skills, 5 * n_rows_plot_skills),\n",
    "                                           squeeze=False) \n",
    "axes_skills = axes_skills_raw.flatten()\n",
    "\n",
    "for i in range(optimal_n_components_gmm):\n",
    "    ax = axes_skills[i] \n",
    "    cluster_df = data_gmm[data_gmm['cluster_gmm'] == i]\n",
    "        \n",
    "    cluster_key_skills_lists = cluster_df['cleaned_key_skills_list'].tolist()\n",
    "    all_skills_in_cluster = [] \n",
    "    \n",
    "    for skills_list_item in cluster_key_skills_lists: \n",
    "        all_skills_in_cluster.extend(skills_list_item)\n",
    "    \n",
    "    skill_counts = Counter(all_skills_in_cluster)\n",
    "    most_common_skills = skill_counts.most_common(top_n_skills_plot)\n",
    "    skills_df_plot = pd.DataFrame(most_common_skills, columns=['Навык', 'Частота'])\n",
    "    \n",
    "    sns.barplot(x='Частота', y='Навык', data=skills_df_plot, ax=ax, palette=\"mako\", orient='h')\n",
    "    ax.set_title(f'Кластер {i}: Топ-{top_n_skills_plot} Навыков')\n",
    "    ax.set_xlabel('Частота встречаемости')\n",
    "    ax.set_ylabel('Навык')\n",
    "\n",
    "\n",
    "for j in range(optimal_n_components_gmm, n_rows_plot_skills * n_cols_plot_skills):\n",
    "    if j < len(axes_skills): \n",
    "        fig_skills.delaxes(axes_skills[j])\n",
    "\n",
    "plt.tight_layout()\n",
    "plt.show()"
   ]
  },
  {
   "cell_type": "markdown",
   "id": "5e00bdb2-39b5-4fba-80fe-4e488c869b5e",
   "metadata": {},
   "source": [
    "1. Кластер 0 характеризуется признаками \"модель\", \"sql\", \"python\", \"продукт\", \"data\", \"etl\" и навыками \"sql\", \"python\", \"power bi\", \"postgresql\", \"clickhouse\", \"etl\", \"dwh\". Это явно указывает на специализацию в области инженерии данных, BI и Data Science.\n",
    "2. Кластер 1 выделяется признаками \"финансовый\", \"отчётность\", \"учёт\", \"контроль\", \"бухгалтерский\", \"банк\" и навыками \"финансовый анализ\", \"ms excel\", \"финансовая отчетность\", \"бюджетирование\". Это четко очерчивает финансово-экономический блок.\n",
    "3. Кластер 2 определяется признаками \"продажа\", \"продукт\", \"маркетинг\", \"рекламный\", \"кампания\", \"продвижение\" и навыками \"яндекс.метрика\", \"английский язык\", \"google analytics\", \"веб-аналитика\", \"b2b продажи\". Это соответствует сфере маркетинга, продаж и продуктового менеджмента с уклоном в digital.\n",
    "4. Кластер 3 характеризуется признаками \"тестирование\", \"технический\", \"api\", \"документация\", \"разработчик\", \"проектирование\", \"архитектура\", \"linux\", \"python\" и навыками \"sql\", \"python\", \"linux\", \"bpmn\", \"postgresql\", \"uml\", \"системный анализ\". Этот кластер объединяет технические роли, связанные с разработкой ПО, системным анализом и, возможно, DevOps.\n",
    "***Комбинация анализа TF-IDF признаков и явно указанных навыков дает хорошее семантическое описание для каждого кластера***"
   ]
  },
  {
   "cell_type": "markdown",
   "id": "d7395b03-3f10-4ffc-87c0-6199d0dfb4a4",
   "metadata": {},
   "source": [
    "<!-- Кластер 0:\n",
    "\n",
    "Топ TF-IDF признаки: модель, sql, python, продукт, data, корпоративный, обучение, аналитик, сервис, etl.\n",
    "Примеры вакансий: Руководитель группы Data Science, Ozon Travel; Главный бизнес-аналитик; Ассистент Product Manager (TMA, Web3).\n",
    "Предполагаемое название: \"Data Scienа и ML\" (или \"Аналитика данных и Продуктов с уклоном в ML/DS\"). Наличие \"модель\", \"python\", \"data\", \"etl\" вместе с \"продукт\" и \"аналитик\" указывает на это. \"Главный бизнес-аналитик\" здесь, вероятно, с сильным фокусом на данные и продук\n",
    "ты.\n",
    "Класт:\n",
    " 1:\n",
    "Топ TF-IDF признаки: финансовый, отчётность, учёт, подготовка, контроль, управленческий, excel, бухгалтерский, банк, экономический.\n",
    "Примеры вакансий: Cпециалист по экономическому анализу проекта; Руководитель направления Бюджетирования и отчетности; Казначей/Финансовый менеджер.\n",
    "Предполагаемое название: \"Финансы, Экономика и Бухгалтерский учет\". Очень четко выраженный финансово-экономический к\n",
    "ластер.\n",
    "К:астер 2:\n",
    "Топ TF-IDF признаки: продажа, продукт, маркетинг, маркетинговый, рекламный, кампания, менеджер, продвижение, бренд, сайт, продуктовый, реклама.\n",
    "Примеры вакансий: Продакт-менеджер (клеммы); Директор по маркетингу и рекламе; Client Success Manager/Account менеджер.\n",
    "Предполагаемое название: \"Маркетинг, Продажи и Управление продуктом/клиентами\". Явный фокус на привлечение клиентов, продажи и развитие продукта с точки зр\n",
    "\n",
    "ния рынка.\n",
    "Кластер 3:\n",
    "Топ TF-IDF признаки: тестирование, технический, and, системный, api, документация, разработчик, проектирование, приложение, архитектура, linux, python, информационный, sql.\n",
    "Примеры вакансий: Системный аналитик; Fullstack аналитик (разработка ПО); Java Oracle разработчик (middle).\n",
    "Предполагаемое название: \"Разработка ПО, Системный анализ и Тестирование\". Этот кластер объединяет технические роли, связанные с жизненным циклом разработки программного обеспечения, от анализа и проектирования до разработки и тестирования. Присутствие \"and\" в топе немного странно, но остальные слова очен --> -->ь показательны."
   ]
  },
  {
   "cell_type": "markdown",
   "id": "02a2b619-be01-4457-8b45-a17a22b16c16",
   "metadata": {},
   "source": [
    "### Сравнение кластеров по средней доходности"
   ]
  },
  {
   "cell_type": "code",
   "execution_count": null,
   "id": "d5f4639a-3980-46a8-9ab9-e2c206140267",
   "metadata": {},
   "outputs": [],
   "source": [
    "def process_salary(x, y, curr):\n",
    "    \"\"\"\n",
    "    Обрабатывает зарплатные данные в виде pd.Series.\n",
    "    Если указана \"вилка\", то зарплата равна среднему значению. Иначе - значению существующей границы.\n",
    "    \"\"\"\n",
    "    if not isinstance(x, pd.Series):\n",
    "        x = pd.Series(x)\n",
    "    if not isinstance(y, pd.Series):\n",
    "        y = pd.Series(y)\n",
    "    if not isinstance(curr, pd.Series):\n",
    "        curr = pd.Series(curr if isinstance(curr, (list, np.ndarray)) else [curr]*len(x))\n",
    "        \n",
    "    denominator = (~x.isna()).astype(int) + (~y.isna()).astype(int)\n",
    "    salary = np.where(denominator == 0, np.nan, np.where(denominator == 1, x.fillna(y), (x.fillna(0) + y.fillna(0)) / denominator))\n",
    "    exchange_rates = {\n",
    "        'RUR': 1,\n",
    "        'USD': 80.5,\n",
    "        'EUR': 90,\n",
    "        'UZS': 0.0062,\n",
    "        'KSI': 0.16\n",
    "    }\n",
    "    rates = curr.map(exchange_rates)\n",
    "    \n",
    "    return salary * rates"
   ]
  },
  {
   "cell_type": "code",
   "execution_count": null,
   "id": "a6e4b76e-80d6-4341-a1f7-ea9ffeed612e",
   "metadata": {},
   "outputs": [],
   "source": [
    "data_gmm['mean_salary_rur'] = process_salary(data_gmm['salary_from'], data_gmm['salary_to'], data_gmm['salary_currency'])"
   ]
  },
  {
   "cell_type": "code",
   "execution_count": null,
   "id": "76a9d1b9-84d7-45c6-b4cb-a5692b274f78",
   "metadata": {},
   "outputs": [],
   "source": [
    "df_salary_analysis = data_gmm.dropna(subset=['mean_salary_rur', 'cluster_gmm'])\n",
    "\n",
    "\n",
    "fig, axes = plt.subplots(2, 2, figsize=(16, 12))\n",
    "fig.suptitle('Распределение зарплат по кластерам GMM', fontsize=16, y=1.02)\n",
    "palette = sns.color_palette('viridis', n_colors=4)\n",
    "\n",
    "\n",
    "for i, cluster in enumerate([0, 1, 2, 3]):\n",
    "\n",
    "    ax = axes[i//2, i%2]\n",
    "    cluster_data = df_salary_analysis[df_salary_analysis['cluster_gmm'] == cluster]\n",
    "\n",
    "    sns.histplot(\n",
    "        data=cluster_data,\n",
    "        x='mean_salary_rur',\n",
    "        ax=ax,\n",
    "        color=palette[i],\n",
    "        kde=True,\n",
    "        bins=30,\n",
    "        alpha=0.7\n",
    "    )\n",
    "    \n",
    "\n",
    "    ax.set_title(f'Кластер {cluster}', fontsize=14)\n",
    "    ax.set_xlabel('Зарплата (руб)', fontsize=12)\n",
    "    ax.set_ylabel('Частота', fontsize=12)\n",
    "    ax.grid(axis='y', linestyle='--', alpha=0.7)\n",
    "    \n",
    "\n",
    "    median = cluster_data['mean_salary_rur'].median()\n",
    "    ax.axvline(median, color='red', linestyle='--', linewidth=1.5)\n",
    "    ax.text(\n",
    "        median * 1.05, ax.get_ylim()[1]*0.9, \n",
    "        f'Медиана: {median:,.0f} руб', \n",
    "        color='red'\n",
    "    )\n",
    "\n",
    "plt.tight_layout()\n",
    "plt.show()"
   ]
  },
  {
   "cell_type": "markdown",
   "id": "94cddc5b-75d7-4576-a492-52a33c41290f",
   "metadata": {},
   "source": [
    "1. Кластер 0 (\"Инженеры данных и BI\") демонстрирует наиболее высокое медианное значение зарплаты (200,000 руб.) и широкий разброс, указывая на высокий спрос и вариативность вознаграждения в этой области.\n",
    "2. \n",
    "Кластер 3 (\"Разработка, Системный анализ, DevOps\") также показывает высокие зарплатные ожидания с медианой 190,000 руб\n",
    "3. \n",
    "Кластер 1 (\"Финансы, Экономика\") имеет медиану 150,000 руб., что является хорошим показателем для этой сфер\n",
    "4. .\n",
    "Кластер 2 (\"Маркетинг, Продажи, Продукт\") показывает самую низкую медиану среди выделенных групп (130,000 руб.), однако распределение также имеет заметный \"хвост\" в сторону высоких зарпла***т.\n",
    "Эти различия в зарплатах дополнительно подтверждают, что выделенные кластеры соответствуют разным сегментам рынка труда с разным уровнем компенса***ции."
   ]
  },
  {
   "cell_type": "code",
   "execution_count": null,
   "id": "f64dec3c-3ca7-4f79-87db-29f4d68b4254",
   "metadata": {},
   "outputs": [],
   "source": [
    "data_gmm[data_gmm['cluster_gmm'] == 3].Vacancy_name.head(50)"
   ]
  },
  {
   "cell_type": "code",
   "execution_count": null,
   "id": "7ade4171-768c-4f9b-bf68-63e72e54b97b",
   "metadata": {},
   "outputs": [],
   "source": [
    "def process_experience(experience):\n",
    "    if experience == 'От 3 до 6 лет':\n",
    "        return 3\n",
    "    elif experience == 'От 1 года до 3 лет':\n",
    "        return 1\n",
    "    elif experience == 'Более 6 лет':\n",
    "        return 6\n",
    "    else:\n",
    "        return 0"
   ]
  },
  {
   "cell_type": "code",
   "execution_count": null,
   "id": "d7e5ea3e-d438-4a32-939d-b86e344dad28",
   "metadata": {},
   "outputs": [],
   "source": [
    "data_gmm['years_required'] = data_gmm['experience_required'].apply(process_experience)"
   ]
  },
  {
   "cell_type": "code",
   "execution_count": null,
   "id": "f927c02e-f8b3-484f-ae91-e925591bd705",
   "metadata": {},
   "outputs": [],
   "source": [
    "data_gmm['years_required'].value_counts()"
   ]
  },
  {
   "cell_type": "code",
   "execution_count": null,
   "id": "2b20a22f-0a0b-4258-9a44-53da6f0acc9f",
   "metadata": {},
   "outputs": [],
   "source": [
    "optimal_n_components_gmm = 4 \n",
    "df_experience_analysis = data_gmm.dropna(subset=['years_required', 'cluster_gmm'])\n",
    "experience_order = sorted(df_experience_analysis['years_required'].unique()) \n",
    "df_experience_analysis['years_required_cat'] = pd.Categorical(\n",
    "    df_experience_analysis['years_required'], \n",
    "    categories=experience_order, \n",
    "    ordered=True\n",
    ")\n",
    "\n",
    "\n",
    "n_cols_exp_plot = 2 if optimal_n_components_gmm > 1 else 1\n",
    "n_rows_exp_plot = (optimal_n_components_gmm + n_cols_exp_plot - 1) // n_cols_exp_plot\n",
    "\n",
    "fig_exp, axes_exp_raw = plt.subplots(n_rows_exp_plot, n_cols_exp_plot, \n",
    "                                     figsize=(7 * n_cols_exp_plot, 5 * n_rows_exp_plot),\n",
    "                                     squeeze=False, sharey=True) \n",
    "axes_exp = axes_exp_raw.flatten()\n",
    "\n",
    "for i in range(optimal_n_components_gmm):\n",
    "    ax = axes_exp[i]\n",
    "    cluster_data = df_experience_analysis[df_experience_analysis['cluster_gmm'] == i]\n",
    "    \n",
    "    if cluster_data.empty:\n",
    "        ax.set_title(f'Кластер {i} (нет данных по опыту)')\n",
    "        ax.axis('off')\n",
    "        continue\n",
    "    \n",
    "    sns.countplot(x='years_required_cat', data=cluster_data, ax=ax, palette='pastel', order=experience_order)\n",
    "    \n",
    "    mean_experience_cluster = cluster_data['years_required'].mean()\n",
    "    ax.axvline(x=mean_experience_cluster, color='red', linestyle='--', linewidth=2, \n",
    "               label=f'Среднее: {mean_experience_cluster:.2f} лет')\n",
    "\n",
    "\n",
    "    ax.set_title(f'Кластер {i} (N={len(cluster_data)})\\nСредний опыт: {mean_experience_cluster:.2f} лет')\n",
    "    ax.set_xlabel('Требуемый опыт (годы)')\n",
    "    ax.set_ylabel('Количество вакансий')\n",
    "    ax.legend(loc='upper right') \n",
    "    ax.tick_params(axis='x', rotation=45)\n",
    "\n",
    "for j in range(optimal_n_components_gmm, n_rows_exp_plot * n_cols_exp_plot):\n",
    "    if j < len(axes_exp):\n",
    "        fig_exp.delaxes(axes_exp[j])\n",
    "\n",
    "plt.tight_layout()\n",
    "plt.suptitle('Распределение требуемого опыта по кластерам GMM', fontsize=16, y=1.03)\n",
    "plt.show()"
   ]
  },
  {
   "cell_type": "markdown",
   "id": "ff7dec39-c5fa-4c00-afce-9f7e46ae072f",
   "metadata": {},
   "source": [
    "## Портреты кластеров GMM (K=4):\n",
    "1. Кластер \"Инженеры данных, BI и Data Science\"\n",
    "Описание: Специалисты, работающие с большими данными, хранилищами данных, BI-системами и моделями машинного обучения.\n",
    "Ключевые навыки: SQL, Python, Power BI, PostgreSQL, ClickHouse, ETL, DWH, Apache Airflow, Hadoop.\n",
    "Топ TF-IDF слова: модель, data, etl, сервис.\n",
    "Зарплата: Высокая (медиана ~200,000 руб.).\n",
    "Опыт: Требуется в среднем 2.36 года.\n",
    "2. \n",
    "Кластер \"Финансы, Экономика и Управленческий учет\"\n",
    "Описание: Специалисты в области финансового анализа, бюджетирования, бухгалтерского и управленческого учета, экономического планирования.\n",
    "Ключевые навыки: Финансовый анализ, MS Excel, финансовая отчетность, бюджетирование, 1С, управленческая отчетность.\n",
    "Топ TF-IDF слова: финансовый, отчётность, учёт, контроль, бухгалтерский, банк, экономический.\n",
    "Зарплата: Средняя (медиана ~150,000 руб.).\n",
    "Опыт: Требуется в среднем 2.25 года.\n",
    "3. \n",
    "Кластер \"Digital-маркетинг, Продажи и Продуктовый менеджмент\"\n",
    "Описание: Специалисты по интернет-маркетингу, веб-аналитике, управлению продуктом, продажам и работе с клиентами.\n",
    "Ключевые навыки: Яндекс.Метрика, Google Analytics, веб-аналитика, B2B продажи, SEO, SMM, английский язык.\n",
    "Топ TF-IDF слова : продажа, маркетинг, маркетинговый, рекламный, кампания, продвижение, бренд, сайт.\n",
    "Зарплата: Умеренная (медиана ~130,000 руб.).\n",
    "Опыт: Требуется в среднем 1.99 года, большинство вакансий для специалистов с небольшим опытом.\n",
    "4. \n",
    "Кластер \"Разработка ПО, Системный анализ и DevOps\"\n",
    "Описание: Технические специалисты, занимающиеся разработкой программного обеспечения, системным анализом, проектированием архитектуры, тестированием и DevOps практиками.\n",
    "Ключевые навыки: SQL, Python, Linux, BPMN, PostgreSQL, UML, системный анализ, Git, Docker, API.\n",
    "Топ TF-IDF слова : тестирование, api, документация, разработчик, проектирование, приложение, архитектура, linux.\n",
    "Зарплата: Высокая (медиана ~190,000 руб.).\n",
    "Опыт: Требуется в среднем 2.44 года.\n",
    "\n",
    "***Таким образом, использование GMM с четырьмя компонентами на основе TF-IDF векторизации (униграммы, с предварительным снижением размерности через SVD) позволило нам выделить четыре крупных, сбалансированных по размеру и хорошо интерпретируемых кластера вакансий, каждый из которых обладает своим уникальным набором востребованных навыков, характерным уровнем зарплат и требуемого опыта. Этот результат представляется значительно более информативным и полезным для понимания структуры рынка труда по сравнению с предыдущими попытками кластеризации.***"
   ]
  }
 ],
 "metadata": {
  "kernelspec": {
   "display_name": "Python 3 (ipykernel)",
   "language": "python",
   "name": "python3"
  },
  "language_info": {
   "codemirror_mode": {
    "name": "ipython",
    "version": 3
   },
   "file_extension": ".py",
   "mimetype": "text/x-python",
   "name": "python",
   "nbconvert_exporter": "python",
   "pygments_lexer": "ipython3",
   "version": "3.11.7"
  }
 },
 "nbformat": 4,
 "nbformat_minor": 5
}
